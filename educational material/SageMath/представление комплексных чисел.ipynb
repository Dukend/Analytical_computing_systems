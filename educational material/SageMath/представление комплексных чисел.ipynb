{
 "cells": [
  {
   "cell_type": "markdown",
   "metadata": {},
   "source": [
    "<h1>Алгебраическое представление</h1>"
   ]
  },
  {
   "cell_type": "markdown",
   "metadata": {},
   "source": [
    "<p>Алгебраическая форма - это такая форма записи комплексных чисел, при которой комплексное число $z$, заданное парой вещественных чисел $(a, b)$, записывается в виде $z = a + i\\cdot b$, где использован символ $i$ , называемый мнимой единицей.</p>"
   ]
  },
  {
   "cell_type": "code",
   "execution_count": 2,
   "metadata": {},
   "outputs": [
    {
     "data": {
      "text/html": [
       "<html><script type=\"math/tex; mode=display\">\\newcommand{\\Bold}[1]{\\mathbf{#1}}\\verb|imag|\\phantom{\\verb!x!}\\verb|=| \\Im \\left( a \\right) + \\Re \\left( b \\right)</script></html>"
      ],
      "text/plain": [
       "'imag = ' imag_part(a) + real_part(b)"
      ]
     },
     "metadata": {},
     "output_type": "display_data"
    },
    {
     "data": {
      "text/html": [
       "<html><script type=\"math/tex; mode=display\">\\newcommand{\\Bold}[1]{\\mathbf{#1}}\\verb|real|\\phantom{\\verb!x!}\\verb|=| -\\Im \\left( b \\right) + \\Re \\left( a \\right)</script></html>"
      ],
      "text/plain": [
       "'real = ' -imag_part(b) + real_part(a)"
      ]
     },
     "metadata": {},
     "output_type": "display_data"
    },
    {
     "data": {
      "text/html": [
       "<html><script type=\"math/tex; mode=display\">\\newcommand{\\Bold}[1]{\\mathbf{#1}}\\verb|модуль|\\phantom{\\verb!x!}\\verb|=| {\\left| a + i \\, b \\right|}</script></html>"
      ],
      "text/plain": [
       "'модуль = ' abs(a + I*b)"
      ]
     },
     "metadata": {},
     "output_type": "display_data"
    }
   ],
   "source": [
    "var(\"a b\")\n",
    "z = a + b*I\n",
    "show(\"imag = \", z.imag())\n",
    "show(\"real = \", z.real())\n",
    "show(\"модуль = \", z.abs())"
   ]
  },
  {
   "cell_type": "markdown",
   "metadata": {},
   "source": [
    "<h1>Тригонометрическое представление:</h1>"
   ]
  },
  {
   "cell_type": "markdown",
   "metadata": {},
   "source": [
    "$z = |z|\\cdot (cos(\\phi) + i\\cdot sin(\\phi))$"
   ]
  },
  {
   "cell_type": "markdown",
   "metadata": {},
   "source": [
    "<p>Запись комплексного числа в форме $z = r (\\cosφ + i\\sinφ)$ ,\n",
    "где $r$  и $φ$ - модуль и аргумент этого числа, соответственно, причем модуль удовлетворяет неравенству $r > 0$, называют тригонометрической формой записи комплексного числа.<p>\n",
    "\n",
    "> $r = |z| \\sqrt{a^2+b^2}$<br>\n",
    "> $\\phi =\\begin{cases}\n",
    "  \\arctan{a\\over b}, & a>0, b\\geq 0\\\\\n",
    "  \\pi - \\arctan{\\left| {a\\over b}\\right|}, & a<0, b\\geq 0\\\\\n",
    "  \\pi + \\arctan{\\left| {a\\over b}\\right|}, &a<0, b< 0\\\\\n",
    "  2\\pi - \\arctan{\\left| {a\\over b}\\right|}, &a>0, b< 0\\\\\n",
    "  {\\pi \\over 2}, &a=0, b> 0\\\\\n",
    "  {{3\\pi}\\over 2}, &a=0, b< 0\\\\\n",
    " \\end{cases}$\n"
   ]
  },
  {
   "cell_type": "code",
   "execution_count": 3,
   "metadata": {},
   "outputs": [
    {
     "data": {
      "text/html": [
       "<html><script type=\"math/tex; mode=display\">\\newcommand{\\Bold}[1]{\\mathbf{#1}}\\verb|z|\\phantom{\\verb!x!}\\verb|=| -5 i + 3</script></html>"
      ],
      "text/plain": [
       "'z = ' -5*I + 3"
      ]
     },
     "metadata": {},
     "output_type": "display_data"
    },
    {
     "data": {
      "text/html": [
       "<html><script type=\"math/tex; mode=display\">\\newcommand{\\Bold}[1]{\\mathbf{#1}}\\verb|phi|\\phantom{\\verb!x!}\\verb|=| -1.030</script></html>"
      ],
      "text/plain": [
       "'phi = ' -1.030"
      ]
     },
     "metadata": {},
     "output_type": "display_data"
    },
    {
     "data": {
      "text/html": [
       "<html><script type=\"math/tex; mode=display\">\\newcommand{\\Bold}[1]{\\mathbf{#1}}\\verb|модуль|\\phantom{\\verb!x!}\\verb|=| 5.831</script></html>"
      ],
      "text/plain": [
       "'модуль = ' 5.831"
      ]
     },
     "metadata": {},
     "output_type": "display_data"
    },
    {
     "data": {
      "text/html": [
       "<html><script type=\"math/tex; mode=display\">\\newcommand{\\Bold}[1]{\\mathbf{#1}}\\verb|Тригонометрическое|\\phantom{\\verb!x!}\\verb|представление|\\phantom{\\verb!x!}\\verb|z|\\phantom{\\verb!x!}\\verb|=| 5.831 \\, \\cos\\left(-1.030\\right) + 5.831i \\, \\sin\\left(-1.030\\right)</script></html>"
      ],
      "text/plain": [
       "'Тригонометрическое представление z = ' 5.831*cos(-1.030) + 5.831*I*sin(-1.030)"
      ]
     },
     "metadata": {},
     "output_type": "display_data"
    }
   ],
   "source": [
    "z = z(a=3, b=-5)\n",
    "show(\"z = \", z)\n",
    "phi = atan2(z.imag(), z.real()).n(digits=4)\n",
    "show(\"phi = \", phi)\n",
    "z_abs = z.abs().n(digits=4)\n",
    "show(\"модуль = \", z_abs)\n",
    "z_trig = z_abs*(cos(phi, hold=True) + I*sin(phi, hold=True))\n",
    "show(\"Тригонометрическое представление z = \", z_trig)"
   ]
  },
  {
   "cell_type": "markdown",
   "metadata": {},
   "source": [
    "<h1>Экспоненциальное представление:</h1>"
   ]
  },
  {
   "cell_type": "markdown",
   "metadata": {},
   "source": [
    "$z = |z|\\cdot e^{i\\phi}$"
   ]
  },
  {
   "cell_type": "code",
   "execution_count": 4,
   "metadata": {},
   "outputs": [
    {
     "data": {
      "text/html": [
       "<html><script type=\"math/tex; mode=display\">\\newcommand{\\Bold}[1]{\\mathbf{#1}}\\verb|z|\\phantom{\\verb!x!}\\verb|=| -5 i + 3</script></html>"
      ],
      "text/plain": [
       "'z = ' -5*I + 3"
      ]
     },
     "metadata": {},
     "output_type": "display_data"
    },
    {
     "data": {
      "text/html": [
       "<html><script type=\"math/tex; mode=display\">\\newcommand{\\Bold}[1]{\\mathbf{#1}}\\verb|phi|\\phantom{\\verb!x!}\\verb|=| -1.030</script></html>"
      ],
      "text/plain": [
       "'phi = ' -1.030"
      ]
     },
     "metadata": {},
     "output_type": "display_data"
    },
    {
     "data": {
      "text/html": [
       "<html><script type=\"math/tex; mode=display\">\\newcommand{\\Bold}[1]{\\mathbf{#1}}\\verb|модуль|\\phantom{\\verb!x!}\\verb|=| 5.831</script></html>"
      ],
      "text/plain": [
       "'модуль = ' 5.831"
      ]
     },
     "metadata": {},
     "output_type": "display_data"
    },
    {
     "data": {
      "text/html": [
       "Экспоненциальное представление z = <script type=\"math/tex\">5.831\\cdot e^{-1.030\\cdot i}</script>"
      ],
      "text/plain": [
       "Экспоненциальное представление z = <script type=\"math/tex\">5.831\\cdot e^{-1.030\\cdot i}</script>"
      ]
     },
     "metadata": {},
     "output_type": "display_data"
    }
   ],
   "source": [
    "z = z(a=3, b=-5)\n",
    "show(\"z = \", z)\n",
    "phi = atan2(z.imag(), z.real()).n(digits=4)\n",
    "show(\"phi = \", phi)\n",
    "z_abs = z.abs().n(digits=4)\n",
    "show(\"модуль = \", z_abs)\n",
    "z_exp = f\"{z_abs}\" + r\"\\cdot e^{\" + f\"{phi}\" + r\"\\cdot i}\"\n",
    "show(html(f\"Экспоненциальное представление z = ${z_exp}$\"))"
   ]
  },
  {
   "cell_type": "code",
   "execution_count": null,
   "metadata": {},
   "outputs": [],
   "source": []
  },
  {
   "cell_type": "markdown",
   "metadata": {},
   "source": [
    "<h1>Еще можно воспользоваться функцией arg:</h1>"
   ]
  },
  {
   "cell_type": "code",
   "execution_count": 5,
   "metadata": {},
   "outputs": [
    {
     "data": {
      "text/html": [
       "<html><script type=\"math/tex; mode=display\">\\newcommand{\\Bold}[1]{\\mathbf{#1}}\\verb|r4|\\phantom{\\verb!x!}\\verb|=| \\sqrt{34} \\verb|,|\\phantom{\\verb!x!}\\verb|phi4|\\phantom{\\verb!x!}\\verb|=| -1.030</script></html>"
      ],
      "text/plain": [
       "'r4 = ' sqrt(34) ', phi4 = ' -1.030"
      ]
     },
     "metadata": {},
     "output_type": "display_data"
    },
    {
     "data": {
      "text/html": [
       "<html><script type=\"math/tex; mode=display\">\\newcommand{\\Bold}[1]{\\mathbf{#1}}\\verb|r4|\\phantom{\\verb!x!}\\verb|=| 5.8310 \\verb|,|\\phantom{\\verb!x!}\\verb|phi4|\\phantom{\\verb!x!}\\verb|=| -1.030</script></html>"
      ],
      "text/plain": [
       "'r4 = ' 5.8310 ', phi4 = ' -1.030"
      ]
     },
     "metadata": {},
     "output_type": "display_data"
    }
   ],
   "source": [
    "x4 = 3 - 5*I\n",
    "r4 = abs(x4)\n",
    "phi4 = atan2(x4.imag(), x4.real()).n(digits=4)\n",
    "show(\"r4 = \", r4, \", phi4 = \", phi4)\n",
    "\n",
    "r4 = abs(x4).n(digits = 5)\n",
    "phi4 = arg(x4).n(digits = 4)\n",
    "show(\"r4 = \", r4, \", phi4 = \", phi4)"
   ]
  },
  {
   "cell_type": "markdown",
   "metadata": {},
   "source": [
    "<h1>Теорию см.:</h1>"
   ]
  },
  {
   "cell_type": "markdown",
   "metadata": {},
   "source": [
    "Теорию см. здесь:<br>\n",
    "Плохое оформление, зато полно и с примерами: http://mathprofi.ru/kompleksnye_chisla_dlya_chainikov.html<br>\n",
    "Понятное живое введение в тему, но нет эксп. представления*: https://www.youtube.com/watch?v=WrTNKxUPIJQ<br>\n",
    "*В ролике опечатка: alpha = [-pi, pi]. alpha в ролике и phi в текущем фале - одно и то же."
   ]
  },
  {
   "cell_type": "markdown",
   "metadata": {},
   "source": [
    "<b>Обратить внимание</b>, что угол alpha не всегда в первой четверти находится - см. по первой ссылке примечание около: \"Из геометрических соображений получается следующая формула для нахождения аргумента:\n",
    ". Внимание! Данная формула работает только в правой полуплоскости! Если комплексное число располагается не в 1-й и не 4-й координатной четверти, то формула будет немного другой. Эти случаи мы тоже разберем.\"\n",
    "<br><br>\n",
    "В рамках текущего кода Sage мы эту проблему обходим, потому как пользуемся функциями atan2 и arg, которые этот момент уже и без нашего участия учитывают."
   ]
  }
 ],
 "metadata": {
  "kernelspec": {
   "display_name": "SageMath 9.1",
   "language": "sage",
   "name": "sagemath"
  },
  "language_info": {
   "codemirror_mode": {
    "name": "ipython",
    "version": 3
   },
   "file_extension": ".py",
   "mimetype": "text/x-python",
   "name": "python",
   "nbconvert_exporter": "python",
   "pygments_lexer": "ipython3",
   "version": "3.7.3"
  }
 },
 "nbformat": 4,
 "nbformat_minor": 2
}
