{
 "cells": [
  {
   "cell_type": "markdown",
   "metadata": {},
   "source": [
    "Взято из https://www.resolventa.ru/spr/algebra/ferrary.htm"
   ]
  },
  {
   "cell_type": "code",
   "execution_count": 3,
   "metadata": {},
   "outputs": [
    {
     "data": {
      "text/html": [
       "<html><script type=\"math/tex; mode=display\">\\newcommand{\\Bold}[1]{\\mathbf{#1}}x^{4} + 4 \\, x^{3} - 4 \\, x^{2} - 20 \\, x - 5</script></html>"
      ],
      "text/plain": [
       "x^4 + 4*x^3 - 4*x^2 - 20*x - 5"
      ]
     },
     "metadata": {},
     "output_type": "display_data"
    }
   ],
   "source": [
    "var(\"x\")\n",
    "poly_x = x**4 + 4*x**3 - 4*x**2 - 20*x - 5\n",
    "show(poly_x)"
   ]
  },
  {
   "cell_type": "code",
   "execution_count": 4,
   "metadata": {},
   "outputs": [
    {
     "data": {
      "text/html": [
       "<html><script type=\"math/tex; mode=display\">\\newcommand{\\Bold}[1]{\\mathbf{#1}}y^{4} - 10 \\, y^{2} - 4 \\, y + 8</script></html>"
      ],
      "text/plain": [
       "y^4 - 10*y^2 - 4*y + 8"
      ]
     },
     "metadata": {},
     "output_type": "display_data"
    }
   ],
   "source": [
    "# замена x = y - a/4, где a - коэф. при x**3\n",
    "var(\"y\")\n",
    "poly_y = poly_x(x = y - 1).expand().simplify_full()\n",
    "show(poly_y)"
   ]
  },
  {
   "cell_type": "code",
   "execution_count": 5,
   "metadata": {},
   "outputs": [],
   "source": [
    "# Должны получить: y**4 + p*y**2 + q*y + r = 0"
   ]
  },
  {
   "cell_type": "code",
   "execution_count": 6,
   "metadata": {},
   "outputs": [
    {
     "data": {
      "text/html": [
       "<html><script type=\"math/tex; mode=display\">\\newcommand{\\Bold}[1]{\\mathbf{#1}}\\left\\{\\verb|p| : -10, \\verb|q| : -4, \\verb|r| : 8\\right\\}</script></html>"
      ],
      "text/plain": [
       "{'p': -10, 'q': -4, 'r': 8}"
      ]
     },
     "metadata": {},
     "output_type": "display_data"
    }
   ],
   "source": [
    "pqr = {'p':-10, 'q': -4, 'r': 8}\n",
    "show(pqr)"
   ]
  },
  {
   "cell_type": "code",
   "execution_count": 7,
   "metadata": {},
   "outputs": [
    {
     "data": {
      "text/html": [
       "<html><script type=\"math/tex; mode=display\">\\newcommand{\\Bold}[1]{\\mathbf{#1}}-p s^{2} + 2 \\, s^{3} - \\frac{1}{4} \\, q^{2} + p r - 2 \\, r s</script></html>"
      ],
      "text/plain": [
       "-p*s^2 + 2*s^3 - 1/4*q^2 + p*r - 2*r*s"
      ]
     },
     "metadata": {},
     "output_type": "display_data"
    }
   ],
   "source": [
    "# Найти s\n",
    "var(\"s p q r\")\n",
    "poly_s = 2*s**3 - p*s**2 - 2*r*s + r*p - q**2/4\n",
    "show(poly_s)"
   ]
  },
  {
   "cell_type": "code",
   "execution_count": 8,
   "metadata": {},
   "outputs": [
    {
     "data": {
      "text/html": [
       "<html><script type=\"math/tex; mode=display\">\\newcommand{\\Bold}[1]{\\mathbf{#1}}2 \\, s^{3} + 10 \\, s^{2} - 16 \\, s - 84</script></html>"
      ],
      "text/plain": [
       "2*s^3 + 10*s^2 - 16*s - 84"
      ]
     },
     "metadata": {},
     "output_type": "display_data"
    }
   ],
   "source": [
    "poly_s_n = poly_s(**pqr)\n",
    "show(poly_s_n)"
   ]
  },
  {
   "cell_type": "code",
   "execution_count": 9,
   "metadata": {},
   "outputs": [],
   "source": [
    "sols = solve(poly_s_n, s)"
   ]
  },
  {
   "cell_type": "code",
   "execution_count": 10,
   "metadata": {},
   "outputs": [
    {
     "data": {
      "text/html": [
       "<html><script type=\"math/tex; mode=display\">\\newcommand{\\Bold}[1]{\\mathbf{#1}}s = -\\sqrt{15} - 1</script></html>"
      ],
      "text/plain": [
       "s == -sqrt(15) - 1"
      ]
     },
     "metadata": {},
     "output_type": "display_data"
    },
    {
     "data": {
      "text/html": [
       "<html><script type=\"math/tex; mode=display\">\\newcommand{\\Bold}[1]{\\mathbf{#1}}s = \\sqrt{15} - 1</script></html>"
      ],
      "text/plain": [
       "s == sqrt(15) - 1"
      ]
     },
     "metadata": {},
     "output_type": "display_data"
    },
    {
     "data": {
      "text/html": [
       "<html><script type=\"math/tex; mode=display\">\\newcommand{\\Bold}[1]{\\mathbf{#1}}s = \\left(-3\\right)</script></html>"
      ],
      "text/plain": [
       "s == -3"
      ]
     },
     "metadata": {},
     "output_type": "display_data"
    }
   ],
   "source": [
    "for sol in sols:\n",
    "    show(sol)"
   ]
  },
  {
   "cell_type": "code",
   "execution_count": 11,
   "metadata": {},
   "outputs": [
    {
     "data": {
      "text/html": [
       "<html><script type=\"math/tex; mode=display\">\\newcommand{\\Bold}[1]{\\mathbf{#1}}-3</script></html>"
      ],
      "text/plain": [
       "-3"
      ]
     },
     "metadata": {},
     "output_type": "display_data"
    }
   ],
   "source": [
    "# Выбираем любой s, не равный нулю\n",
    "s_0 = sols[2].rhs()\n",
    "show(s_0)"
   ]
  },
  {
   "cell_type": "code",
   "execution_count": 12,
   "metadata": {},
   "outputs": [],
   "source": [
    "var(\"y s p q\")\n",
    "poly_y_1 = y**2 - y*sqrt(2*s - p) + q/(2*sqrt(2*s - p)) + s\n",
    "poly_y_2 = y**2 + y*sqrt(2*s - p) - q/(2*sqrt(2*s - p)) + s"
   ]
  },
  {
   "cell_type": "code",
   "execution_count": 13,
   "metadata": {},
   "outputs": [
    {
     "data": {
      "text/html": [
       "<html><script type=\"math/tex; mode=display\">\\newcommand{\\Bold}[1]{\\mathbf{#1}}y^{2} - \\sqrt{-p + 2 \\, s} y + s + \\frac{q}{2 \\, \\sqrt{-p + 2 \\, s}}</script></html>"
      ],
      "text/plain": [
       "y^2 - sqrt(-p + 2*s)*y + s + 1/2*q/sqrt(-p + 2*s)"
      ]
     },
     "metadata": {},
     "output_type": "display_data"
    },
    {
     "data": {
      "text/html": [
       "<html><script type=\"math/tex; mode=display\">\\newcommand{\\Bold}[1]{\\mathbf{#1}}y^{2} + \\sqrt{-p + 2 \\, s} y + s - \\frac{q}{2 \\, \\sqrt{-p + 2 \\, s}}</script></html>"
      ],
      "text/plain": [
       "y^2 + sqrt(-p + 2*s)*y + s - 1/2*q/sqrt(-p + 2*s)"
      ]
     },
     "metadata": {},
     "output_type": "display_data"
    }
   ],
   "source": [
    "show(poly_y_1)\n",
    "show(poly_y_2)"
   ]
  },
  {
   "cell_type": "code",
   "execution_count": 14,
   "metadata": {},
   "outputs": [
    {
     "data": {
      "text/html": [
       "<html><script type=\"math/tex; mode=display\">\\newcommand{\\Bold}[1]{\\mathbf{#1}}y^{2} - 2 \\, y - 4</script></html>"
      ],
      "text/plain": [
       "y^2 - 2*y - 4"
      ]
     },
     "metadata": {},
     "output_type": "display_data"
    },
    {
     "data": {
      "text/html": [
       "<html><script type=\"math/tex; mode=display\">\\newcommand{\\Bold}[1]{\\mathbf{#1}}y^{2} + 2 \\, y - 2</script></html>"
      ],
      "text/plain": [
       "y^2 + 2*y - 2"
      ]
     },
     "metadata": {},
     "output_type": "display_data"
    }
   ],
   "source": [
    "poly_y_1_n = poly_y_1(**pqr, s=s_0)\n",
    "poly_y_2_n = poly_y_2(**pqr, s=s_0)\n",
    "show(poly_y_1_n)\n",
    "show(poly_y_2_n)"
   ]
  },
  {
   "cell_type": "code",
   "execution_count": 22,
   "metadata": {},
   "outputs": [],
   "source": [
    "sols = solve(poly_y_1_n, y)\n",
    "sols.extend(solve(poly_y_2_n, y))"
   ]
  },
  {
   "cell_type": "code",
   "execution_count": 23,
   "metadata": {},
   "outputs": [
    {
     "data": {
      "text/html": [
       "<html><script type=\"math/tex; mode=display\">\\newcommand{\\Bold}[1]{\\mathbf{#1}}\\verb|x_0|\\phantom{\\verb!x!}\\verb|=| y - 1 = -\\sqrt{5}</script></html>"
      ],
      "text/plain": [
       "'x_0 = ' y - 1 == -sqrt(5)"
      ]
     },
     "metadata": {},
     "output_type": "display_data"
    },
    {
     "data": {
      "text/html": [
       "<html><script type=\"math/tex; mode=display\">\\newcommand{\\Bold}[1]{\\mathbf{#1}}\\verb|x_1|\\phantom{\\verb!x!}\\verb|=| y - 1 = \\sqrt{5}</script></html>"
      ],
      "text/plain": [
       "'x_1 = ' y - 1 == sqrt(5)"
      ]
     },
     "metadata": {},
     "output_type": "display_data"
    },
    {
     "data": {
      "text/html": [
       "<html><script type=\"math/tex; mode=display\">\\newcommand{\\Bold}[1]{\\mathbf{#1}}\\verb|x_2|\\phantom{\\verb!x!}\\verb|=| y - 1 = -\\sqrt{3} - 2</script></html>"
      ],
      "text/plain": [
       "'x_2 = ' y - 1 == -sqrt(3) - 2"
      ]
     },
     "metadata": {},
     "output_type": "display_data"
    },
    {
     "data": {
      "text/html": [
       "<html><script type=\"math/tex; mode=display\">\\newcommand{\\Bold}[1]{\\mathbf{#1}}\\verb|x_3|\\phantom{\\verb!x!}\\verb|=| y - 1 = \\sqrt{3} - 2</script></html>"
      ],
      "text/plain": [
       "'x_3 = ' y - 1 == sqrt(3) - 2"
      ]
     },
     "metadata": {},
     "output_type": "display_data"
    }
   ],
   "source": [
    "# Учитываем, что это не исходное уравнение - нужно вернуться к замене: x = y - a/4\n",
    "for i, sol in enumerate(sols):\n",
    "    show(f\"x_{i} = \", sol - 1)"
   ]
  },
  {
   "cell_type": "code",
   "execution_count": 24,
   "metadata": {},
   "outputs": [
    {
     "data": {
      "text/html": [
       "<html><script type=\"math/tex; mode=display\">\\newcommand{\\Bold}[1]{\\mathbf{#1}}\\verb|x_0|\\phantom{\\verb!x!}\\verb|=| x = -\\sqrt{5}</script></html>"
      ],
      "text/plain": [
       "'x_0 = ' x == -sqrt(5)"
      ]
     },
     "metadata": {},
     "output_type": "display_data"
    },
    {
     "data": {
      "text/html": [
       "<html><script type=\"math/tex; mode=display\">\\newcommand{\\Bold}[1]{\\mathbf{#1}}\\verb|x_1|\\phantom{\\verb!x!}\\verb|=| x = \\sqrt{5}</script></html>"
      ],
      "text/plain": [
       "'x_1 = ' x == sqrt(5)"
      ]
     },
     "metadata": {},
     "output_type": "display_data"
    },
    {
     "data": {
      "text/html": [
       "<html><script type=\"math/tex; mode=display\">\\newcommand{\\Bold}[1]{\\mathbf{#1}}\\verb|x_2|\\phantom{\\verb!x!}\\verb|=| x = -\\sqrt{3} - 2</script></html>"
      ],
      "text/plain": [
       "'x_2 = ' x == -sqrt(3) - 2"
      ]
     },
     "metadata": {},
     "output_type": "display_data"
    },
    {
     "data": {
      "text/html": [
       "<html><script type=\"math/tex; mode=display\">\\newcommand{\\Bold}[1]{\\mathbf{#1}}\\verb|x_3|\\phantom{\\verb!x!}\\verb|=| x = \\sqrt{3} - 2</script></html>"
      ],
      "text/plain": [
       "'x_3 = ' x == sqrt(3) - 2"
      ]
     },
     "metadata": {},
     "output_type": "display_data"
    }
   ],
   "source": [
    "sols = solve(poly_x, x)\n",
    "for i, sol in enumerate(sols):\n",
    "    show(f\"x_{i} = \", sol)"
   ]
  },
  {
   "cell_type": "code",
   "execution_count": null,
   "metadata": {},
   "outputs": [],
   "source": []
  }
 ],
 "metadata": {
  "kernelspec": {
   "display_name": "SageMath 9.1",
   "language": "sage",
   "name": "sagemath"
  },
  "language_info": {
   "codemirror_mode": {
    "name": "ipython",
    "version": 3
   },
   "file_extension": ".py",
   "mimetype": "text/x-python",
   "name": "python",
   "nbconvert_exporter": "python",
   "pygments_lexer": "ipython3",
   "version": "3.7.3"
  }
 },
 "nbformat": 4,
 "nbformat_minor": 2
}
