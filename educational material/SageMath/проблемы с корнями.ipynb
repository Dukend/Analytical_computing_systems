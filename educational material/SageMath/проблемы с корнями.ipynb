{
 "cells": [
  {
   "cell_type": "markdown",
   "metadata": {},
   "source": [
    "<h1>Проблемы с корнем третьей степени</h1>"
   ]
  },
  {
   "cell_type": "markdown",
   "metadata": {},
   "source": [
    "Суть проблемы: когда берете корень от отрицательного числа, то вам возвращается результат уже в виде комплексного числа.<br>\n",
    "Так происходит, потому что на самом деле у квадратного корня два значения: с минусом и с плюсом. Но при расчетах мы пользуемся только положительным значением, потому оно просто и возвращается.<br>\n",
    "У кубического корня же на деле три возвращаемых значения и по умолчанию возвращается комплексное.<br>\n",
    "Это не ошибка SageMath, это и в Python в целом так.\n",
    "<pre>\n",
    "\" if a is a cubic root of some complex number (in your case -1),\n",
    "    the other cube roots are a*j and a*j^2\n",
    "    where j=exp(2*I*pi/3)=(-1+I*sqrt(3))/2\n",
    "    \"\n",
    "    https://ask.sagemath.org/question/10063/get-variants-of-complex-cube-root/\n",
    "</pre>"
   ]
  },
  {
   "cell_type": "code",
   "execution_count": 2,
   "metadata": {},
   "outputs": [],
   "source": [
    "j = (-1 + I*sqrt(3))/2"
   ]
  },
  {
   "cell_type": "code",
   "execution_count": 4,
   "metadata": {},
   "outputs": [
    {
     "data": {
      "text/html": [
       "<html><script type=\"math/tex; mode=display\">\\newcommand{\\Bold}[1]{\\mathbf{#1}}0.50 + 0.87i</script></html>"
      ],
      "text/plain": [
       "0.50 + 0.87*I"
      ]
     },
     "metadata": {},
     "output_type": "display_data"
    },
    {
     "data": {
      "text/html": [
       "<html><script type=\"math/tex; mode=display\">\\newcommand{\\Bold}[1]{\\mathbf{#1}}-1.0</script></html>"
      ],
      "text/plain": [
       "-1.0"
      ]
     },
     "metadata": {},
     "output_type": "display_data"
    },
    {
     "data": {
      "text/html": [
       "<html><script type=\"math/tex; mode=display\">\\newcommand{\\Bold}[1]{\\mathbf{#1}}0.50 - 0.87i</script></html>"
      ],
      "text/plain": [
       "0.50 - 0.87*I"
      ]
     },
     "metadata": {},
     "output_type": "display_data"
    }
   ],
   "source": [
    "a = (-1)**(1/3)\n",
    "show(a.n(digits=2))\n",
    "show((a*j).n(digits=2))\n",
    "show((a*j**2).n(digits=2))"
   ]
  },
  {
   "cell_type": "markdown",
   "metadata": {},
   "source": [
    "Еще есть функция nth_root. Добавлена в SageMath 9.2 и выше."
   ]
  },
  {
   "cell_type": "code",
   "execution_count": 13,
   "metadata": {},
   "outputs": [
    {
     "ename": "NameError",
     "evalue": "name 'real_nth_root' is not defined",
     "output_type": "error",
     "traceback": [
      "\u001b[0;31m---------------------------------------------------------------------------\u001b[0m",
      "\u001b[0;31mNameError\u001b[0m                                 Traceback (most recent call last)",
      "\u001b[0;32m<ipython-input-13-a7aaec84d6e1>\u001b[0m in \u001b[0;36m<module>\u001b[0;34m()\u001b[0m\n\u001b[1;32m      1\u001b[0m \u001b[0;31m# У меня пока SageMath 9.1, так что не продемонстрирую\u001b[0m\u001b[0;34m\u001b[0m\u001b[0;34m\u001b[0m\u001b[0;34m\u001b[0m\u001b[0m\n\u001b[0;32m----> 2\u001b[0;31m \u001b[0mshow\u001b[0m\u001b[0;34m(\u001b[0m\u001b[0mreal_nth_root\u001b[0m\u001b[0;34m(\u001b[0m\u001b[0;34m-\u001b[0m\u001b[0mInteger\u001b[0m\u001b[0;34m(\u001b[0m\u001b[0;36m1\u001b[0m\u001b[0;34m)\u001b[0m\u001b[0;34m,\u001b[0m \u001b[0mInteger\u001b[0m\u001b[0;34m(\u001b[0m\u001b[0;36m3\u001b[0m\u001b[0;34m)\u001b[0m\u001b[0;34m)\u001b[0m\u001b[0;34m)\u001b[0m\u001b[0;34m\u001b[0m\u001b[0;34m\u001b[0m\u001b[0m\n\u001b[0m\u001b[1;32m      3\u001b[0m \u001b[0mshow\u001b[0m\u001b[0;34m(\u001b[0m\u001b[0mnth_root\u001b[0m\u001b[0;34m)\u001b[0m\u001b[0;34m\u001b[0m\u001b[0;34m\u001b[0m\u001b[0m\n",
      "\u001b[0;31mNameError\u001b[0m: name 'real_nth_root' is not defined"
     ]
    }
   ],
   "source": [
    "# У меня пока SageMath 9.1, так что не продемонстрирую\n",
    "show(real_nth_root(-1, 3))\n",
    "show(nth_root)"
   ]
  },
  {
   "cell_type": "markdown",
   "metadata": {},
   "source": [
    "Есть еще одно решение: https://docs.sympy.org/latest/modules/functions/elementary.html#real-root\n",
    "<br> Необходимый код ниже:"
   ]
  },
  {
   "cell_type": "code",
   "execution_count": 12,
   "metadata": {},
   "outputs": [
    {
     "data": {
      "text/html": [
       "<html><script type=\"math/tex; mode=display\">\\newcommand{\\Bold}[1]{\\mathbf{#1}}\\verb|(-1)**(1/3)|</script></html>"
      ],
      "text/plain": [
       "(-1)**(1/3)"
      ]
     },
     "metadata": {},
     "output_type": "display_data"
    },
    {
     "data": {
      "text/html": [
       "<html><script type=\"math/tex; mode=display\">\\newcommand{\\Bold}[1]{\\mathbf{#1}}\\verb|0.5|\\phantom{\\verb!x!}\\verb|+|\\phantom{\\verb!x!}\\verb|0.866025403784439*I|</script></html>"
      ],
      "text/plain": [
       "0.5 + 0.866025403784439*I"
      ]
     },
     "metadata": {},
     "output_type": "display_data"
    },
    {
     "data": {
      "text/html": [
       "<html><script type=\"math/tex; mode=display\">\\newcommand{\\Bold}[1]{\\mathbf{#1}}-1</script></html>"
      ],
      "text/plain": [
       "-1"
      ]
     },
     "metadata": {},
     "output_type": "display_data"
    }
   ],
   "source": [
    "from sympy import root, real_root\n",
    "show(root(-1, 3))\n",
    "show(root(-1, 3).n())\n",
    "show(real_root(-1, 3))"
   ]
  },
  {
   "cell_type": "code",
   "execution_count": 2,
   "metadata": {},
   "outputs": [
    {
     "data": {
      "text/html": [
       "<html><script type=\"math/tex; mode=display\">\\newcommand{\\Bold}[1]{\\mathbf{#1}}\\verb|y|\\phantom{\\verb!x!}\\verb|=| \\left({\\left(x - 3\\right)}^{2} x\\right)^{\\frac{1}{3}}</script></html>"
      ],
      "text/plain": [
       "'y = ' ((x - 3)^2*x)^(1/3)"
      ]
     },
     "metadata": {},
     "output_type": "display_data"
    },
    {
     "data": {
      "image/png": "[encoded data removed]",
      "text/plain": [
       "Graphics object consisting of 4 graphics primitives"
      ]
     },
     "metadata": {},
     "output_type": "display_data"
    }
   ],
   "source": [
    "f = (x * ((x - 3) ** 2)) ** (1/3)\n",
    "y = f\n",
    "\n",
    "plot.options[\"xmin\"] = -10\n",
    "plot.options[\"xmax\"] = 10\n",
    "plot.options[\"ymin\"] = -10\n",
    "plot.options[\"ymax\"] = 10\n",
    "\n",
    "show(\"y = \", y.simplify())\n",
    "plot1 = plot(-abs(y), (-10, -0))\n",
    "plot2 = plot(abs(y), (0, 10))\n",
    "\n",
    "plot1 += plot2\n",
    "plot1 += point((0, 0), size = 50, color = 'red')\n",
    "plot1 += point((3, 0), size = 50, color = 'red')\n",
    "\n",
    "plot1.show()"
   ]
  },
  {
   "cell_type": "markdown",
   "metadata": {},
   "source": [
    "Если не использовать модуль, то получите ошибку вычисления точек: \"невозможно отрисовать обычный график по комплексно заданным точкам\"."
   ]
  },
  {
   "cell_type": "code",
   "execution_count": null,
   "metadata": {},
   "outputs": [],
   "source": []
  }
 ],
 "metadata": {
  "kernelspec": {
   "display_name": "SageMath 9.1",
   "language": "sage",
   "name": "sagemath"
  },
  "language_info": {
   "codemirror_mode": {
    "name": "ipython",
    "version": 3
   },
   "file_extension": ".py",
   "mimetype": "text/x-python",
   "name": "python",
   "nbconvert_exporter": "python",
   "pygments_lexer": "ipython3",
   "version": "3.7.3"
  }
 },
 "nbformat": 4,
 "nbformat_minor": 2
}
