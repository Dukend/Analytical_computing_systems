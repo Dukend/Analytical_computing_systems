{
 "cells": [
  {
   "cell_type": "markdown",
   "metadata": {},
   "source": [
    "примеры LaTeX для оформления"
   ]
  },
  {
   "cell_type": "markdown",
   "metadata": {},
   "source": [
    "{\\left{\n",
    "    \\begin{array}\n",
    "        {rcl}\\alpha _{1j_{1}}x_{j_{1}}+\\alpha _{1j_{2}}x_{j_{2}}+\\ldots +\\alpha _{1j_{r}}x_{j_{r}}+\\ldots +\\alpha _{1j_{n}}x_{j_{n}}&=&\\beta _{1}\\\\\n",
    "        \\alpha _{2j_{2}}x_{j_{2}}+\\ldots +\\alpha _{2j_{r}}x_{j_{r}}+\\ldots +\\alpha _{2j_{n}}x_{j_{n}}&=&\\beta _{2}\\\\\n",
    "        &\\ldots\n",
    "        &\\\\\n",
    "        \\alpha _{rj_{r}}x_{j_{r}}+\\ldots +\\alpha _{rj_{n}}x_{j_{n}}&=&\\beta _{r}\\\\\n",
    "        0&=&\\beta _{r+1}\\\\\n",
    "        &\\ldots \n",
    "        &\\\\\n",
    "        0&=&\\beta _{m}\n",
    "    \\end{array}\n",
    "\\right}}"
   ]
  },
  {
   "cell_type": "markdown",
   "metadata": {},
   "source": [
    "\\begin{equation*}\n",
    " \\begin{cases}\n",
    "   x_1 + 4x_2 + 3x_3 = 14, \n",
    "   \\\\\n",
    "   -2x_1 + 4x_2 + 56x_3 = 53, \n",
    "   \\\\\n",
    "   x_1 - x_2 - 73x_3 = 1, \n",
    " \\end{cases}\n",
    "\\end{equation*}"
   ]
  },
  {
   "cell_type": "markdown",
   "metadata": {},
   "source": [
    "\\begin{equation*}\n",
    "A = \n",
    "\\begin{vmatrix}\n",
    "  1 & 2 & 3\\\\\n",
    "  2 & 4 & 6\\\\\n",
    "  3 & 1 & -1\\\\\n",
    "\\end{vmatrix}\n",
    "\\end{equation*}"
   ]
  },
  {
   "cell_type": "markdown",
   "metadata": {},
   "source": [
    "\\begin{equation*}\n",
    "\\begin{pmatrix}\n",
    "  1 & 2 & 3 & \\vline &  4\\\\\n",
    "  0 & 0 & 0 & \\vline & -5\\\\\n",
    "  3 & 1 & -1 & \\vline &  1\\\\\n",
    "\\end{pmatrix}\n",
    "\\end{equation*}"
   ]
  },
  {
   "cell_type": "markdown",
   "metadata": {},
   "source": [
    "\\begin{equation*}\n",
    "rank\n",
    "\\left(\\begin{matrix}\n",
    "1 & 2 & 3 & 4 \\\\\n",
    "2 & 4 & 6 & 3 \\\\\n",
    "3 & 1 & -1 & 1\n",
    "\\end{matrix}\\right)=\n",
    "rank\\left(\\begin{matrix}\n",
    "1 & 2 & 3 & 4 \\\\\n",
    "0 & 0 & 0 & -5 \\\\\n",
    "0 & -5 & -10 & -11\n",
    "\\end{matrix}\\right)=\n",
    "rank\\left(\\begin{matrix}\n",
    "1 & 2 & 3 & 4 \\\\\n",
    "0 & -5 & -10 & -11 \\\\\n",
    "0 & 0 & 0 & -5\n",
    "\\end{matrix}\\right)\n",
    "\\end{equation*}"
   ]
  },
  {
   "cell_type": "markdown",
   "metadata": {},
   "source": [
    "Уравнение дано в виде: AX = B, YA = B и т.д. Привести к виду AX = B и найти X (X = A$^{-1}$*B).\\\\\n",
    "\\begin{equation*}\n",
    "\\frac{1}{2}X\\left(\\begin{matrix}\n",
    "-2 & 4 & -6\\\\\n",
    "-1 & 0 & -2\\\\\n",
    "4 & 4 & 2\n",
    "\\end{matrix}\\right)^T=2\\left(\\begin{matrix}\n",
    "2 & 8 & -9\\\\\n",
    "-1 & 1& 4\\\\\n",
    "1 & 0 & 2\n",
    "\\end{matrix}\\right)^2\n",
    "\\end{equation*}\\\\"
   ]
  },
  {
   "cell_type": "markdown",
   "metadata": {},
   "source": [
    "Тригонометрическая запись $z_3$:\\\\\n",
    "$z_3$ = $\\alpha + \\beta*i$\\\\\n",
    "|$z_3$| = $\\sqrt[2]{\\alpha^2 + \\beta^2}$ = 1.704\\\\\n",
    "$\\alpha < 0; \\beta >= 0$, тогда:\\\\\n",
    "$\\phi = \\pi - arctg(\\frac{\\beta}{|\\alpha|}) = -1.5062 + \\pi$\n",
    "\\\\Таким образом, тригонометрическая форма комплексного числа $z_3$ = $1.704(cos(-1.5062+\\pi) + i*sin (-1.5062+\\pi))$\\\\\\\\\n",
    "\n",
    "Экспонентная запись $z_3$:\\\\\n",
    "$z_3$=|$z_3$|$e^{i\\phi}$ = $1.704*e^{(-1.5062 + \\pi)*i}$\\\\\n"
   ]
  },
  {
   "cell_type": "code",
   "execution_count": null,
   "metadata": {},
   "outputs": [],
   "source": []
  }
 ],
 "metadata": {
  "kernelspec": {
   "display_name": "SageMath 9.1",
   "language": "sage",
   "name": "sagemath"
  },
  "language_info": {
   "codemirror_mode": {
    "name": "ipython",
    "version": 3
   },
   "file_extension": ".py",
   "mimetype": "text/x-python",
   "name": "python",
   "nbconvert_exporter": "python",
   "pygments_lexer": "ipython3",
   "version": "3.7.3"
  }
 },
 "nbformat": 4,
 "nbformat_minor": 2
}
