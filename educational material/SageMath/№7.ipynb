{
 "cells": [
  {
   "cell_type": "markdown",
   "metadata": {},
   "source": [
    "<h1>Задание 7</h1>"
   ]
  },
  {
   "cell_type": "markdown",
   "metadata": {},
   "source": [
    "<h3>Линейные преобразования и характеристическое уравнение матрицы</h3>\n",
    "Дано преобразование и базис.\n",
    "<ol>\n",
    "    <li>Перевести преобразование в другой базис. Представить ответ в матричной форме и виде формул.</li>\n",
    "    <li>Построить характеристические полиномы и проверить, что они совпадают.</li>\n",
    "    <li>Получить характеристические числа преобразования.</li>\n",
    "    <li>Получить собственные вектора преобразования.</li>\n",
    "</ol>\n",
    "См. Гусак 1999, стр. 167"
   ]
  },
  {
   "cell_type": "markdown",
   "metadata": {},
   "source": [
    "Далее - примерное описание, как оно должно быть в выполненном задании"
   ]
  },
  {
   "cell_type": "code",
   "execution_count": 3,
   "metadata": {},
   "outputs": [
    {
     "data": {
      "text/html": [
       "<html><script type=\"math/tex; mode=display\">\\newcommand{\\Bold}[1]{\\mathbf{#1}}\\verb|Матрица|\\phantom{\\verb!x!}\\verb|преобразования|\\phantom{\\verb!x!}\\verb|A|\\phantom{\\verb!x!}\\verb|=| \\left(\\begin{array}{rrr}\n",
       "9.0 & 7.0 & 2.0 \\\\\n",
       "0.0 & 1.0 & -3.0 \\\\\n",
       "3.0 & -4.0 & 1.0\n",
       "\\end{array}\\right)</script></html>"
      ],
      "text/plain": [
       "'Матрица преобразования A = ' [ 9.0  7.0  2.0]\n",
       "[ 0.0  1.0 -3.0]\n",
       "[ 3.0 -4.0  1.0]"
      ]
     },
     "metadata": {},
     "output_type": "display_data"
    }
   ],
   "source": [
    "A = matrix(RDF,[[9, 7, 2],\n",
    "            [0, 1, -3],\n",
    "            [3, -4, 1]])\n",
    "show('Матрица преобразования A = ', A)"
   ]
  },
  {
   "cell_type": "markdown",
   "metadata": {},
   "source": [
    "Потребуется пример - возьмем его с потолка, но чтобы ортонормированность базиса не нарушалась (в заданиях может встретиться неудачный по этому вопросу пример)."
   ]
  },
  {
   "cell_type": "code",
   "execution_count": 11,
   "metadata": {},
   "outputs": [],
   "source": [
    "def get_rot_mat(_axis, _angle_rad):\n",
    "    if _axis == 'x':\n",
    "        return Matrix([[1, 0, 0],\n",
    "                         [0, cos(_angle_rad), sin(_angle_rad)],\n",
    "                         [0, -sin(_angle_rad), cos(_angle_rad)]])\n",
    "    if _axis == 'y':\n",
    "        return Matrix([[cos(_angle_rad), 0, sin(_angle_rad)],\n",
    "                         [0, 1, 0],\n",
    "                         [-sin(_angle_rad), 0, cos(_angle_rad)]])\n",
    "    if _axis == 'z':\n",
    "        return Matrix([[cos(_angle_rad), sin(_angle_rad), 0],\n",
    "                         [-sin(_angle_rad), cos(_angle_rad), 0],\n",
    "                         [0, 0, 1]])\n",
    "    \n",
    "    print(\"get_rot_mat: wrong input\")\n",
    "    exit(-9)"
   ]
  },
  {
   "cell_type": "code",
   "execution_count": 40,
   "metadata": {},
   "outputs": [],
   "source": [
    "e_new = get_rot_mat(_axis='x', _angle_rad=math.radians(40))\\\n",
    "        * get_rot_mat(_axis='z', _angle_rad=math.radians(30))\n",
    "arr = e_new\n",
    "for i_row in range(len(arr.rows())):\n",
    "    for i_cell in range(len(arr[i_row])):\n",
    "        arr[i_row, i_cell] = round(arr[i_row, i_cell], 2)"
   ]
  },
  {
   "cell_type": "code",
   "execution_count": 41,
   "metadata": {},
   "outputs": [
    {
     "data": {
      "text/plain": [
       "[ 0.87   0.5   0.0]\n",
       "[-0.38  0.66  0.64]\n",
       "[ 0.32 -0.56  0.77]"
      ]
     },
     "execution_count": 41,
     "metadata": {},
     "output_type": "execute_result"
    }
   ],
   "source": [
    "e_new"
   ]
  },
  {
   "cell_type": "code",
   "execution_count": 42,
   "metadata": {},
   "outputs": [
    {
     "data": {
      "text/html": [
       "<html><script type=\"math/tex; mode=display\">\\newcommand{\\Bold}[1]{\\mathbf{#1}}0.87 \\, e_{1} + 0.5 \\, e_{2}</script></html>"
      ],
      "text/plain": [
       "0.87*e_1 + 0.5*e_2"
      ]
     },
     "metadata": {},
     "output_type": "display_data"
    },
    {
     "data": {
      "text/html": [
       "<html><script type=\"math/tex; mode=display\">\\newcommand{\\Bold}[1]{\\mathbf{#1}}-0.38 \\, e_{1} + 0.66 \\, e_{2} + 0.64 \\, e_{3}</script></html>"
      ],
      "text/plain": [
       "-0.38*e_1 + 0.66*e_2 + 0.64*e_3"
      ]
     },
     "metadata": {},
     "output_type": "display_data"
    },
    {
     "data": {
      "text/html": [
       "<html><script type=\"math/tex; mode=display\">\\newcommand{\\Bold}[1]{\\mathbf{#1}}0.32 \\, e_{1} - 0.56 \\, e_{2} + 0.77 \\, e_{3}</script></html>"
      ],
      "text/plain": [
       "0.32*e_1 - 0.56*e_2 + 0.77*e_3"
      ]
     },
     "metadata": {},
     "output_type": "display_data"
    }
   ],
   "source": [
    "e1, e2, e3 = var(\"e_1 e_2 e_3\")\n",
    "ve = vector([e1, e2, e3])\n",
    "for row in e_new * ve:\n",
    "    show(row)"
   ]
  },
  {
   "cell_type": "markdown",
   "metadata": {},
   "source": [
    "<b>Пункт задания 1:</b> Перевести преобразование в дургой базис. Ответ предоставить в виде матрицы и формулы."
   ]
  },
  {
   "cell_type": "markdown",
   "metadata": {},
   "source": [
    "/*\\~~краткое описание, что происходит\\~~*/<br>\n",
    "Пусть преобразование заданётся матрицей A. А матрица перехода в другой базис задаётся матрицей S.<br>\n",
    "Тогда искомая матрица A' находится по формуле: \n",
    "$$A' = S^{-1}\\cdot A\\cdot S$$"
   ]
  },
  {
   "cell_type": "code",
   "execution_count": 43,
   "metadata": {},
   "outputs": [
    {
     "data": {
      "text/html": [
       "<html><script type=\"math/tex; mode=display\">\\newcommand{\\Bold}[1]{\\mathbf{#1}}\\left(\\begin{array}{rrr}\n",
       "0.87 & -0.38 & 0.32 \\\\\n",
       "0.5 & 0.66 & -0.56 \\\\\n",
       "0.0 & 0.64 & 0.77\n",
       "\\end{array}\\right)</script></html>"
      ],
      "text/plain": [
       "[ 0.87 -0.38  0.32]\n",
       "[  0.5  0.66 -0.56]\n",
       "[  0.0  0.64  0.77]"
      ]
     },
     "metadata": {},
     "output_type": "display_data"
    }
   ],
   "source": [
    "S = e_new.transpose()\n",
    "show(S)"
   ]
  },
  {
   "cell_type": "code",
   "execution_count": 50,
   "metadata": {},
   "outputs": [
    {
     "data": {
      "text/html": [
       "Матрица <script type=\"math/tex\">A' = S^{-1} \\cdot A \\cdot S</script> = "
      ],
      "text/plain": [
       "Матрица <script type=\"math/tex\">A' = S^{-1} \\cdot A \\cdot S</script> = "
      ]
     },
     "execution_count": 50,
     "metadata": {},
     "output_type": "execute_result"
    }
   ],
   "source": [
    "A_new = S**(-1)*A*A\n",
    "arr = A_new\n",
    "for i_row in range(len(arr.rows())):\n",
    "    for i_cell in range(len(arr[i_row])):\n",
    "        arr[i_row, i_cell] = round(arr[i_row, i_cell], 2)\n",
    "html(r\"Матрица $A' = S^{-1} \\cdot A \\cdot S$ = \")"
   ]
  },
  {
   "cell_type": "code",
   "execution_count": 51,
   "metadata": {},
   "outputs": [
    {
     "data": {
      "text/html": [
       "<html><script type=\"math/tex; mode=display\">\\newcommand{\\Bold}[1]{\\mathbf{#1}}\\left(\\begin{array}{rrr}\n",
       "70.78 & 60.06 & -3.81 \\\\\n",
       "-20.06 & -6.73 & 8.64 \\\\\n",
       "55.63 & 22.48 & 17.49\n",
       "\\end{array}\\right)</script></html>"
      ],
      "text/plain": [
       "[ 70.78  60.06  -3.81]\n",
       "[-20.06  -6.73   8.64]\n",
       "[ 55.63  22.48  17.49]"
      ]
     },
     "metadata": {},
     "output_type": "display_data"
    }
   ],
   "source": [
    "show(A_new)"
   ]
  },
  {
   "cell_type": "markdown",
   "metadata": {},
   "source": [
    "Сверим результат.<br>\n",
    "<b>Пункт задания 2:</b> Построить характеристические полиномы и проверить, что они совпадают."
   ]
  },
  {
   "cell_type": "markdown",
   "metadata": {},
   "source": [
    "Характеристический полином задаётся уравнением $\\phi_A(\\lambda) =|A - \\lambda E|$<br>\n",
    "Отсюда, характеристический полином для A = ..<br>\n",
    "Аналогично, характеристический полином для A' = ..<br>\n",
    "<br>\n",
    "$\\cdots$\n",
    "<br>\n",
    "Сравним полученные характеристические полиномы /*если все верно, то должны совпасть в канонической форме*/.<br>\n",
    "+\\- сравнить с SageMath: A.charpoly()"
   ]
  },
  {
   "cell_type": "markdown",
   "metadata": {},
   "source": [
    "<b>Пункт задания 3:</b> Получить характеристические числа преобразования."
   ]
  },
  {
   "cell_type": "markdown",
   "metadata": {},
   "source": [
    "Найдем собственные числа преобразования $A'$<br>\n",
    "Согласно /*источник*/ это есть корни характеристического полинома.<br>\n",
    "/*  здесь не описываем полностью метод Кардано - просто находим при помощи SageMath solve  */<br>"
   ]
  },
  {
   "cell_type": "markdown",
   "metadata": {},
   "source": [
    "<b>Пункт задания 4:</b> Получить собственные вектора преобразования"
   ]
  },
  {
   "cell_type": "markdown",
   "metadata": {},
   "source": [
    "Собственные вектора ищем из уравнения  $A\\cdot v = \\lambda \\cdot A, v\\neq 0$<br>\n",
    "/*  Для каждого ранее найденного \\lambda получаем свой собственный вектор.<br>\n",
    "Расписывать процесс решения СЛАУ нет необходимости - у вас для этого есть задание 2.\n",
    "*/"
   ]
  },
  {
   "cell_type": "code",
   "execution_count": null,
   "metadata": {},
   "outputs": [],
   "source": []
  }
 ],
 "metadata": {
  "kernelspec": {
   "display_name": "SageMath 9.1",
   "language": "sage",
   "name": "sagemath"
  },
  "language_info": {
   "codemirror_mode": {
    "name": "ipython",
    "version": 3
   },
   "file_extension": ".py",
   "mimetype": "text/x-python",
   "name": "python",
   "nbconvert_exporter": "python",
   "pygments_lexer": "ipython3",
   "version": "3.7.3"
  }
 },
 "nbformat": 4,
 "nbformat_minor": 2
}
