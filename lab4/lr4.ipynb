{
 "cells": [
  {
   "cell_type": "markdown",
   "metadata": {},
   "source": [
    "# Получение функции"
   ]
  },
  {
   "cell_type": "code",
   "execution_count": 1,
   "metadata": {},
   "outputs": [
    {
     "ename": "NameError",
     "evalue": "name 'Sin' is not defined",
     "output_type": "error",
     "traceback": [
      "\u001b[0;31m---------------------------------------------------------------------------\u001b[0m",
      "\u001b[0;31mNameError\u001b[0m                                 Traceback (most recent call last)",
      "\u001b[0;32m<ipython-input-1-f66971ebaa8b>\u001b[0m in \u001b[0;36m<module>\u001b[0;34m\u001b[0m\n\u001b[1;32m      1\u001b[0m tasks = {\n\u001b[0;32m----> 2\u001b[0;31m     \u001b[0mSin\u001b[0m\u001b[0;34m[\u001b[0m\u001b[0;36m2\u001b[0m\u001b[0;34m*\u001b[0m\u001b[0mx\u001b[0m\u001b[0;34m^\u001b[0m\u001b[0;36m3\u001b[0m\u001b[0;34m]\u001b[0m\u001b[0;34m^\u001b[0m\u001b[0;36m2\u001b[0m\u001b[0;34m/\u001b[0m\u001b[0mx\u001b[0m\u001b[0;34m^\u001b[0m\u001b[0;36m3\u001b[0m\u001b[0;34m\u001b[0m\u001b[0;34m\u001b[0m\u001b[0m\n\u001b[0m\u001b[1;32m      3\u001b[0m     \u001b[0;34m,\u001b[0m \u001b[0;34m(\u001b[0m\u001b[0mx\u001b[0m\u001b[0;34m^\u001b[0m\u001b[0;36m2\u001b[0m \u001b[0;34m-\u001b[0m \u001b[0;36m4\u001b[0m\u001b[0;34m)\u001b[0m\u001b[0;34m*\u001b[0m\u001b[0mSin\u001b[0m\u001b[0;34m[\u001b[0m\u001b[0;34m(\u001b[0m\u001b[0mPi\u001b[0m\u001b[0;34m*\u001b[0m\u001b[0;34m(\u001b[0m\u001b[0mx\u001b[0m\u001b[0;34m^\u001b[0m\u001b[0;36m2\u001b[0m\u001b[0;34m)\u001b[0m\u001b[0;34m)\u001b[0m\u001b[0;34m/\u001b[0m\u001b[0;36m6\u001b[0m\u001b[0;34m]\u001b[0m \u001b[0;34m/\u001b[0m \u001b[0;34m(\u001b[0m\u001b[0mx\u001b[0m\u001b[0;34m^\u001b[0m\u001b[0;36m2\u001b[0m \u001b[0;34m-\u001b[0m \u001b[0;36m1\u001b[0m\u001b[0;34m)\u001b[0m\u001b[0;34m\u001b[0m\u001b[0;34m\u001b[0m\u001b[0m\n\u001b[1;32m      4\u001b[0m     \u001b[0;34m,\u001b[0m \u001b[0mSqrt\u001b[0m\u001b[0;34m[\u001b[0m\u001b[0mAbs\u001b[0m\u001b[0;34m[\u001b[0m\u001b[0;36m3\u001b[0m\u001b[0;34m*\u001b[0m\u001b[0mx\u001b[0m\u001b[0;34m^\u001b[0m\u001b[0;36m3\u001b[0m \u001b[0;34m+\u001b[0m \u001b[0;36m2\u001b[0m\u001b[0;34m*\u001b[0m\u001b[0mx\u001b[0m\u001b[0;34m^\u001b[0m\u001b[0;36m2\u001b[0m \u001b[0;34m-\u001b[0m \u001b[0;36m10\u001b[0m\u001b[0;34m*\u001b[0m\u001b[0mx\u001b[0m\u001b[0;34m]\u001b[0m\u001b[0;34m]\u001b[0m \u001b[0;34m/\u001b[0m \u001b[0;34m(\u001b[0m\u001b[0;36m4\u001b[0m\u001b[0;34m*\u001b[0m\u001b[0mx\u001b[0m\u001b[0;34m)\u001b[0m\u001b[0;34m\u001b[0m\u001b[0;34m\u001b[0m\u001b[0m\n\u001b[1;32m      5\u001b[0m     \u001b[0;34m,\u001b[0m \u001b[0;36m1\u001b[0m\u001b[0;34m/\u001b[0m\u001b[0;36m2\u001b[0m \u001b[0;34m*\u001b[0m \u001b[0mLog\u001b[0m\u001b[0;34m[\u001b[0m\u001b[0mSqrt\u001b[0m\u001b[0;34m[\u001b[0m\u001b[0mx\u001b[0m\u001b[0;34m^\u001b[0m\u001b[0;36m2\u001b[0m \u001b[0;34m+\u001b[0m \u001b[0;36m1\u001b[0m\u001b[0;34m]\u001b[0m \u001b[0;34m/\u001b[0m \u001b[0mSqrt\u001b[0m\u001b[0;34m[\u001b[0m\u001b[0mx\u001b[0m\u001b[0;34m^\u001b[0m\u001b[0;36m2\u001b[0m \u001b[0;34m-\u001b[0m \u001b[0;36m1\u001b[0m\u001b[0;34m]\u001b[0m\u001b[0;34m]\u001b[0m \u001b[0;34m-\u001b[0m \u001b[0;36m15\u001b[0m\u001b[0;34m*\u001b[0m\u001b[0mx\u001b[0m\u001b[0;34m^\u001b[0m\u001b[0;36m2\u001b[0m\u001b[0;34m\u001b[0m\u001b[0;34m\u001b[0m\u001b[0m\n",
      "\u001b[0;31mNameError\u001b[0m: name 'Sin' is not defined"
     ]
    }
   ],
   "source": [
    "tasks = {\n",
    "    Sin[2*x^3]^2/x^3\n",
    "    , (x^2 - 4)*Sin[(Pi*(x^2))/6] / (x^2 - 1)\n",
    "    , Sqrt[Abs[3*x^3 + 2*x^2 - 10*x]] / (4*x)\n",
    "    , 1/2 * Log[Sqrt[x^2 + 1] / Sqrt[x^2 - 1]] - 15*x^2\n",
    "    , (x^3 - x^2 - x + 1)^(1/3) / Tan[x]\n",
    "    , 2*Log[(x - 1) / x] + 1\n",
    "    , Log[x - 1] / (x - 1)^2\n",
    "};"
   ]
  },
  {
   "cell_type": "code",
   "execution_count": 2,
   "metadata": {},
   "outputs": [
    {
     "ename": "SyntaxError",
     "evalue": "invalid syntax (<ipython-input-2-d0493f2e73d3>, line 1)",
     "output_type": "error",
     "traceback": [
      "\u001b[0;36m  File \u001b[0;32m\"<ipython-input-2-d0493f2e73d3>\"\u001b[0;36m, line \u001b[0;32m1\u001b[0m\n\u001b[0;31m    getVariantForNumber[number_, variationsQuo_]:=(\u001b[0m\n\u001b[0m                                                 ^\u001b[0m\n\u001b[0;31mSyntaxError\u001b[0m\u001b[0;31m:\u001b[0m invalid syntax\n"
     ]
    }
   ],
   "source": [
    "getVariantForNumber[number_, variationsQuo_]:=(\n",
    "    Module[{t},\n",
    "        t = Mod[number , variationsQuo];\n",
    "        If[t != 0\n",
    "                , t\n",
    "                , variationsQuo\n",
    "            ]\n",
    "    ]\n",
    ")"
   ]
  },
  {
   "cell_type": "code",
   "execution_count": 3,
   "metadata": {},
   "outputs": [
    {
     "ename": "NameError",
     "evalue": "name 'Table' is not defined",
     "output_type": "error",
     "traceback": [
      "\u001b[0;31m---------------------------------------------------------------------------\u001b[0m",
      "\u001b[0;31mNameError\u001b[0m                                 Traceback (most recent call last)",
      "\u001b[0;32m<ipython-input-3-56fc46d2d22a>\u001b[0m in \u001b[0;36m<module>\u001b[0;34m\u001b[0m\n\u001b[0;32m----> 1\u001b[0;31m \u001b[0mTable\u001b[0m\u001b[0;34m[\u001b[0m\u001b[0mPlot\u001b[0m\u001b[0;34m[\u001b[0m\u001b[0mtasks\u001b[0m\u001b[0;34m[\u001b[0m\u001b[0;34m[\u001b[0m\u001b[0mi\u001b[0m\u001b[0;34m]\u001b[0m\u001b[0;34m]\u001b[0m\u001b[0;34m,\u001b[0m \u001b[0;34m{\u001b[0m\u001b[0mx\u001b[0m\u001b[0;34m,\u001b[0m \u001b[0;34m-\u001b[0m\u001b[0;36m10\u001b[0m\u001b[0;34m,\u001b[0m \u001b[0;36m10\u001b[0m\u001b[0;34m}\u001b[0m\u001b[0;34m]\u001b[0m\u001b[0;34m,\u001b[0m \u001b[0;34m{\u001b[0m\u001b[0mi\u001b[0m\u001b[0;34m,\u001b[0m \u001b[0;36m1\u001b[0m\u001b[0;34m,\u001b[0m \u001b[0mLength\u001b[0m\u001b[0;34m[\u001b[0m\u001b[0mtasks\u001b[0m\u001b[0;34m]\u001b[0m\u001b[0;34m}\u001b[0m\u001b[0;34m]\u001b[0m\u001b[0;34m\u001b[0m\u001b[0;34m\u001b[0m\u001b[0m\n\u001b[0m",
      "\u001b[0;31mNameError\u001b[0m: name 'Table' is not defined"
     ]
    }
   ],
   "source": [
    "Table[Plot[tasks[[i]], {x, -10, 10}], {i, 1, Length[tasks]}]"
   ]
  },
  {
   "cell_type": "code",
   "execution_count": 4,
   "metadata": {},
   "outputs": [
    {
     "ename": "NameError",
     "evalue": "name 'getVariantForNumber' is not defined",
     "output_type": "error",
     "traceback": [
      "\u001b[0;31m---------------------------------------------------------------------------\u001b[0m",
      "\u001b[0;31mNameError\u001b[0m                                 Traceback (most recent call last)",
      "\u001b[0;32m<ipython-input-4-72569fe1c35e>\u001b[0m in \u001b[0;36m<module>\u001b[0;34m\u001b[0m\n\u001b[1;32m      1\u001b[0m \u001b[0myourNumber\u001b[0m \u001b[0;34m=\u001b[0m \u001b[0;36m13\u001b[0m\u001b[0;34m;\u001b[0m\u001b[0;34m\u001b[0m\u001b[0;34m\u001b[0m\u001b[0m\n\u001b[0;32m----> 2\u001b[0;31m \u001b[0mnumberOfYourTask\u001b[0m \u001b[0;34m=\u001b[0m \u001b[0mgetVariantForNumber\u001b[0m\u001b[0;34m[\u001b[0m\u001b[0myourNumber\u001b[0m\u001b[0;34m,\u001b[0m \u001b[0mLength\u001b[0m\u001b[0;34m[\u001b[0m\u001b[0mtasks\u001b[0m\u001b[0;34m]\u001b[0m\u001b[0;34m]\u001b[0m\u001b[0;34m;\u001b[0m\u001b[0;34m\u001b[0m\u001b[0;34m\u001b[0m\u001b[0m\n\u001b[0m\u001b[1;32m      3\u001b[0m \u001b[0mPrint\u001b[0m\u001b[0;34m[\u001b[0m\u001b[0;34m\"Number of your task: \"\u001b[0m\u001b[0;34m,\u001b[0m \u001b[0mnumberOfYourTask\u001b[0m\u001b[0;34m]\u001b[0m\u001b[0;34m\u001b[0m\u001b[0;34m\u001b[0m\u001b[0m\n",
      "\u001b[0;31mNameError\u001b[0m: name 'getVariantForNumber' is not defined"
     ]
    }
   ],
   "source": [
    "yourNumber = 13;\n",
    "numberOfYourTask = getVariantForNumber[yourNumber, Length[tasks]];\n",
    "Print[\"Number of your task: \", numberOfYourTask]"
   ]
  },
  {
   "cell_type": "code",
   "execution_count": 5,
   "metadata": {},
   "outputs": [
    {
     "ename": "SyntaxError",
     "evalue": "invalid syntax (<ipython-input-5-8950adbf08ac>, line 1)",
     "output_type": "error",
     "traceback": [
      "\u001b[0;36m  File \u001b[0;32m\"<ipython-input-5-8950adbf08ac>\"\u001b[0;36m, line \u001b[0;32m1\u001b[0m\n\u001b[0;31m    f[y_] := tasks[[numberOfYourTask]]/.x->y;\u001b[0m\n\u001b[0m           ^\u001b[0m\n\u001b[0;31mSyntaxError\u001b[0m\u001b[0;31m:\u001b[0m invalid syntax\n"
     ]
    }
   ],
   "source": [
    "f[y_] := tasks[[numberOfYourTask]]/.x->y;"
   ]
  },
  {
   "cell_type": "markdown",
   "metadata": {},
   "source": [
    "# График"
   ]
  },
  {
   "cell_type": "code",
   "execution_count": 7,
   "metadata": {},
   "outputs": [
    {
     "ename": "SyntaxError",
     "evalue": "invalid syntax (<ipython-input-7-3ce88bcb0393>, line 1)",
     "output_type": "error",
     "traceback": [
      "\u001b[0;36m  File \u001b[0;32m\"<ipython-input-7-3ce88bcb0393>\"\u001b[0;36m, line \u001b[0;32m1\u001b[0m\n\u001b[0;31m    Plot[f[x], {x, 0, 7}, PlotRange->{-0.5,0.5}]\u001b[0m\n\u001b[0m                                    ^\u001b[0m\n\u001b[0;31mSyntaxError\u001b[0m\u001b[0;31m:\u001b[0m invalid syntax\n"
     ]
    }
   ],
   "source": [
    "Plot[f[x], {x, 0, 7}, PlotRange->{-0.5,0.5}]"
   ]
  },
  {
   "cell_type": "markdown",
   "metadata": {},
   "source": [
    "# Область определения"
   ]
  },
  {
   "cell_type": "markdown",
   "metadata": {},
   "source": [
    "$D: x>1$"
   ]
  },
  {
   "cell_type": "markdown",
   "metadata": {},
   "source": [
    "# Проверка на чётность/нечётность"
   ]
  },
  {
   "cell_type": "code",
   "execution_count": 9,
   "metadata": {},
   "outputs": [],
   "source": [
    "even = TautologyQ[f[x] == f[-x]];\n",
    "noteven = TautologyQ[f[x] + f[-x] == 0];"
   ]
  },
  {
   "cell_type": "code",
   "execution_count": 11,
   "metadata": {},
   "outputs": [
    {
     "data": {
      "text/html": [
       "<div><pre style=\"&#102;&#111;&#110;&#116;&#45;&#102;&#97;&#109;&#105;&#108;&#121;&#58;&#32;&#34;&#67;&#111;&#117;&#114;&#105;&#101;&#114;&#32;&#78;&#101;&#119;&#34;&#44;&#67;&#111;&#117;&#114;&#105;&#101;&#114;&#44;&#109;&#111;&#110;&#111;&#115;&#112;&#97;&#99;&#101;&#59;\">&#1060;&#1091;&#1085;&#1082;&#1094;&#1080;&#1103;&#32;&#1087;&#1088;&#1086;&#1095;&#1072;&#1103;</pre></div>"
      ],
      "text/plain": [
       "Функция прочая"
      ]
     },
     "execution_count": 13,
     "metadata": {
      "text/html": [],
      "text/plain": []
     },
     "output_type": "execute_result"
    }
   ],
   "source": [
    "If[even == True,\"Функция четная\", Null]\n",
    "If[noteven == True,\"Функция нечетная\", Null]\n",
    "If[Not[even||noteven], \"Функция прочая\", Null]"
   ]
  },
  {
   "cell_type": "markdown",
   "metadata": {},
   "source": [
    "# Проверка на переодичность"
   ]
  },
  {
   "cell_type": "code",
   "execution_count": 14,
   "metadata": {},
   "outputs": [
    {
     "ename": "This system cannot be solved with the methods available to Solve.",
     "evalue": "This system cannot be solved with the methods available to Solve.",
     "output_type": "error",
     "traceback": [
      "\u001b[0;31mThis system cannot be solved with the methods available to Solve.: This system cannot be solved with the methods available to Solve.\u001b[0m"
     ]
    },
    {
     "data": {
      "text/html": [
       "<div><img alt=\"Output\" src=\"data:image/png;base64,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\"></div>"
      ],
      "text/plain": [
       "      Log[-1 + T + x]    Log[-1 + x]\n",
       "Solve[--------------- == -----------, T]\n",
       "                   2              2\n",
       "       (-1 + T + x)       (-1 + x)"
      ]
     },
     "execution_count": 14,
     "metadata": {
      "text/html": [],
      "text/plain": []
     },
     "output_type": "execute_result"
    }
   ],
   "source": [
    "Solve[f[x+T] == f[x], T]"
   ]
  },
  {
   "cell_type": "markdown",
   "metadata": {},
   "source": [
    "Solve не выдает ни одного решения, следовательно ни при каком значении T не будет f[x+T] = f[x], следовательно функция не является переодической."
   ]
  },
  {
   "cell_type": "markdown",
   "metadata": {},
   "source": [
    "# Точки пересечения с осями координат"
   ]
  },
  {
   "cell_type": "code",
   "execution_count": 15,
   "metadata": {},
   "outputs": [],
   "source": [
    "sols = Solve[f[x] == 0, x];\n",
    "points = {x, 0} /. sols;"
   ]
  },
  {
   "cell_type": "code",
   "execution_count": 17,
   "metadata": {},
   "outputs": [
    {
     "data": {
      "text/html": [
       "<div><img alt=\"Output\" src=\"data:image/png;base64,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\"></div>"
      ],
      "text/plain": [
       "-Graphics-"
      ]
     },
     "execution_count": 19,
     "metadata": {
      "text/html": [],
      "text/plain": []
     },
     "output_type": "execute_result"
    }
   ],
   "source": [
    "g1 = Plot[f[x], {x, 0, 7}, PlotRange->{-0.5,0.5}];\n",
    "g2 = ListPlot[points, PlotStyle->{Black, PointSize[Large]}];\n",
    "Show[{g1, g2}]"
   ]
  },
  {
   "cell_type": "markdown",
   "metadata": {},
   "source": [
    "# Промежутуки знакопостоянства"
   ]
  },
  {
   "cell_type": "code",
   "execution_count": 20,
   "metadata": {},
   "outputs": [
    {
     "data": {
      "text/html": [
       "<style>\n",
       "\t\t\t\t\t\t\t\t\t\t\t\t\t.grid-container {\n",
       "\t\t\t\t\t\t\t\t\t\t\t\t\t\tdisplay: inline-grid;\n",
       "\t\t\t\t\t\t\t\t\t\t\t\t\t\tgrid-template-columns: auto;\n",
       "\t\t\t\t\t\t\t\t\t\t\t\t\t}\n",
       "\t\t\t\t\t\t\t\t\t\t\t\t</style>\n",
       "\n",
       "\t\t\t\t\t\t\t\t\t\t\t\t<div><div class=\"grid-container\"><div class=\"grid-item\"><pre style=\"&#102;&#111;&#110;&#116;&#45;&#102;&#97;&#109;&#105;&#108;&#121;&#58;&#32;&#34;&#67;&#111;&#117;&#114;&#105;&#101;&#114;&#32;&#78;&#101;&#119;&#34;&#44;&#67;&#111;&#117;&#114;&#105;&#101;&#114;&#44;&#109;&#111;&#110;&#111;&#115;&#112;&#97;&#99;&#101;&#59;\">&#48;</pre></div><div class=\"grid-item\"><pre style=\"&#102;&#111;&#110;&#116;&#45;&#102;&#97;&#109;&#105;&#108;&#121;&#58;&#32;&#34;&#67;&#111;&#117;&#114;&#105;&#101;&#114;&#32;&#78;&#101;&#119;&#34;&#44;&#67;&#111;&#117;&#114;&#105;&#101;&#114;&#44;&#109;&#111;&#110;&#111;&#115;&#112;&#97;&#99;&#101;&#59;\">&#45;&#50;&#46;&#55;&#55;&#50;&#53;&#57;</pre></div><div class=\"grid-item\"><pre style=\"&#102;&#111;&#110;&#116;&#45;&#102;&#97;&#109;&#105;&#108;&#121;&#58;&#32;&#34;&#67;&#111;&#117;&#114;&#105;&#101;&#114;&#32;&#78;&#101;&#119;&#34;&#44;&#67;&#111;&#117;&#114;&#105;&#101;&#114;&#44;&#109;&#111;&#110;&#111;&#115;&#112;&#97;&#99;&#101;&#59;\">&#48;&#46;&#49;&#56;&#48;&#50;&#48;&#55;</pre></div></div></div>"
      ],
      "text/plain": [
       "0\n",
       "-2.77259\n",
       "0.180207"
      ]
     },
     "execution_count": 20,
     "metadata": {
      "text/html": [],
      "text/plain": []
     },
     "output_type": "execute_result"
    }
   ],
   "source": [
    "f[2]\n",
    "f[1.5]\n",
    "f[2.5]"
   ]
  },
  {
   "cell_type": "code",
   "execution_count": 23,
   "metadata": {},
   "outputs": [
    {
     "data": {
      "text/html": [
       "<div><img alt=\"Output\" src=\"data:image/png;base64,iVBORw0KGgoAAAANSUhEUgAAAfQAAABkCAIAAAD/pVUqAAAAz3pUWHRSYXcgcHJvZmlsZSB0eXBlIGV4aWYAAHjadU/bDQMhDPtnio6QFw6Mw7Wc1A06fsNBVVGploiNcYKS+ut5ptuAMCXLXlABCli1Ki1EoYnJTPWqF05binc/wabgFlb+PqAv/9h9x2QpP4NIptDxQ2hdg30NUpk+t3k/Vl5aKfsgpQ32WYv/3NUFGewW1YTcUUOXFDIIWSg7TtyBCDIeQnYP7nCPNvhIaBuNA9J9T/cEDeMxVtBxWFuwRWXlaOXLYa1RVasc8apXZqzzBmUsWsRsKG5IAAAACXBIWXMAAAsTAAALEwEAmpwYAAAAPHRFWHRTb2Z0d2FyZQBDcmVhdGVkIHdpdGggdGhlIFdvbGZyYW0gTGFuZ3VhZ2UgOiB3d3cud29sZnJhbS5jb21coqaFAAAAIXRFWHRDcmVhdGlvbiBUaW1lADIwMjE6MDQ6MTEgMTE6MTk6MzldxuMLAAAEJklEQVR4nO3dPXLiSBiA4dbWHgVN4HLgWJwANnE06WQohGSzDTdzAiHKfIOJ0AnQCVwTGB3CN9AGYLz2+m/9h/X5eTIoY1TV8ku7WyqyrusSALH8dugDAODtiTtAQOIOEJC4AwQk7gABiTtAQOIOEJC4AwQk7gABiTtAQOIOEJC4AwQk7gABiTtAQOIOEJC4AwQk7gABiTtAQOIOEJC4AwQk7gABiTtAQOIOEJC4AwQk7gABiTtAQOIOEJC4AwQk7gABPSfudZllWVm/+7Hwf7T1ohwOs53hsFzU7aGPCXiRdjHMXpHZdlHuW5CVi20Jno57XY6rl70h76Yuh/l4VjXN9RNNU83G+dBHMHw5dZnPqubm8bdBSumpuLd1mUn7p1OX46pJqZisNt3WZjUvUkpNNZZ36J/BdN11XbccveC17eVFSilN5rscXP+Sh+Pe1uUwV/bPp138XaWUivn5cjTYPTcYTderSUopVT/VHb6Sza8mpVQc/TG4/fwDca/LLB9XTSomq802GnwWu6H8fncoR6eTlFK6uLT0Hlfbtoa3vx4evrtr7tvHw0W73Vzbr6ff2VuryyzbLa40szy7vWz/8My9mMxXm/XN5JBPYrTsuq5bTw3Ml1OXeZ7nVt566gXD9+tsu7m2f2K7t7Z41if8A3EfLbv1cirsfVL/rNJ9M3qgn5qqalIxv95b222tpWZ2tvuEGC27rtuurRS7JfebZXvXuQdxvRKv7RBHMd+s97PswWh6vs37sxZfxT2EusxnTUrF/NxqDYTxn8na4Nvxs1/8+1sfzefStvVm8+hP5Plo0PMe1uVwXKVUTFYW4qO5fQJvL3m7uKz/tWwb4ASO69XDd/ztFWMbPO6bs/ETV3NOVt2yx38b7WK4m7NvlD2g+07gZjYe3zzq+Qkc22GHL3jc86PJ5PErOY/yDzqUt9fW5Y/t3UzKHtXtE/jiomqaVBST45v/zXt8Asd32OELHvfBdLk89DG8j/2UfbJav+i2Nvrg9glcl9W4Scd/LY14Pxx2+ILHPah2v4Fqyg7cy9Uy/dMufowrZQceI+69U5/NmpRubje+yw2MgGWZ/tneiMpXlP+5Wp2m3BZqP3308GVd133UewHwQSzLAAQk7gABiTtAQOIOEJC4AwQk7gABiTtAQOIOEJC4AwQk7gABiTtAQOIOEJC4AwQk7gABiTtAQE98Wcd8Pr+6uvqYQwHgjpOTk9PT0xe80MwdICDfxAQQkJk7QEDiDhCQuAMEJO4AAYk7QEDiDhCQuAMEJO4AAYk7QEDiDhCQuAMEJO4AAYk7QEDiDhCQuAMEJO4AAYk7QEDiDhCQuAMEJO4AAYk7QEDiDhCQuAMEJO4AAYk7QEDiDhCQuAMEJO4AAYk7QEDiDhCQuAMEJO4AAYk7QEDiDhDQP+4WT7+dndckAAAAAElFTkSuQmCC\"></div>"
      ],
      "text/plain": [
       "-Graphics-"
      ]
     },
     "execution_count": 29,
     "metadata": {
      "text/html": [],
      "text/plain": []
     },
     "output_type": "execute_result"
    }
   ],
   "source": [
    "g1 = Graphics[Line[{{0,0}, {20,0}}]];\n",
    "g2 = Graphics[Text[Style[\"1\", 24], {0.1, 1}]];\n",
    "g3 = Graphics[Text[Style[\"2\", 24], {6, 1}]];\n",
    "g4 = Graphics[Text[Style[\"+inf\", 24], {19.9, 1}]];\n",
    "g5 = Graphics[Text[Style[\"+\", 24], {13, 1}]];\n",
    "g6 = Graphics[Text[Style[\"-\", 24], {3, 1}]];\n",
    "Show[{g1, g2, g3, g4, g5, g6}, ImageSize->{500, 100}]"
   ]
  },
  {
   "cell_type": "markdown",
   "metadata": {},
   "source": [
    "# Промежутки возрастания и убывания"
   ]
  },
  {
   "cell_type": "code",
   "execution_count": 30,
   "metadata": {},
   "outputs": [
    {
     "data": {
      "text/html": [
       "<style>\n",
       "\t\t\t\t\t\t\t\t\t\t\t\t\t.grid-container {\n",
       "\t\t\t\t\t\t\t\t\t\t\t\t\t\tdisplay: inline-grid;\n",
       "\t\t\t\t\t\t\t\t\t\t\t\t\t\tgrid-template-columns: auto;\n",
       "\t\t\t\t\t\t\t\t\t\t\t\t\t}\n",
       "\t\t\t\t\t\t\t\t\t\t\t\t</style>\n",
       "\n",
       "\t\t\t\t\t\t\t\t\t\t\t\t<div><div class=\"grid-container\"><div class=\"grid-item\"><img alt=\"Output\" src=\"data:image/png;base64,iVBORw0KGgoAAAANSUhEUgAAAEsAAAATCAIAAABX8WcnAAAA0npUWHRSYXcgcHJvZmlsZSB0eXBlIGV4aWYAAHjabU9bjgMhDPvnFHsE8sCB4zAtlfYGe/w1A201VS1NbBwnA2n8/T7Sz4RKTl6iogGZ8OZNO0XNC4slt7Oe8GP35Oonse13WuXdwNj+cfUDi7V+LMq6hM0/UJvvgb3IdPnS1/nYee21XhftGz3h9XX172cLRYGEs7rmCDTqmihJKJpL4IEbwKDgrtlv5IEIjiFmwvocnNAR1/RIMBr3+QSbn1gnO6uYcFROR6yxmjU92LUzM5/zD1VaWrm5wkZwAAAACXBIWXMAAAsTAAALEwEAmpwYAAAAPHRFWHRTb2Z0d2FyZQBDcmVhdGVkIHdpdGggdGhlIFdvbGZyYW0gTGFuZ3VhZ2UgOiB3d3cud29sZnJhbS5jb21coqaFAAAAIXRFWHRDcmVhdGlvbiBUaW1lADIwMjE6MDQ6MTEgMTE6MTk6MzldxuMLAAACMklEQVRYhd2XIZPaQBTH33YqIvMNEkEiTiGZQ4ClNfkGh2JxgDh3Al9BohiqqGNqOEP2E9CJRHQyzL79ADjiLi4VFEibt/SA3ND2p8J/Ny/vv9nNe7AsyyCHUlCpQBGdXiJJkgwGA8uyyFHP86rV6iVxsyOh3wkRswI6vWTm8/l2u33VVAz9jk9kROk5h2EYkuF0etmMRqMzZoc+ZZHQ3121sf4FLnOogjpjjHFRWh5JkpimWVq4HBc4FJw9wBf078vMI4qiZrNZZsQ9FzhsTbJl74/fVSWEOiPoer22bXt/a8Dr9Xqd8+CcEBre7ByilPrBJEmGw+FmsykOqYAvJMDTcrmcTD4iD649CXuHSgQSWsQDNfoplFJKAQDuLwrMZrN2uz2dTnc/0zQ1DAMAAMQCHt049pzdvY4XS9piy4VP1C4p6D8dKpTgOkSyGv0ESiEiooxjiYiIlMVut2vbtmmau9cYRVGtVjsO390dLp3HnmZ9HRfkgljAgn6oG+j7ZN3T6OjfQ+dEodTVqxwvLy/9fj/LsvF4fAzb8TXlvJAWOaegH89hxXXJtSrogjPGmNP/Bp8/XFUzDMOwLGu1WqVpenhab+LK+PvXBx4IIQLOueaDhZqgRT236jfoaXavkehmEPF0o/jqnub9hetfEoZhNBoNotZXSuvzb+wQADzPy+3S8vkr+tJ9qXgTcg4d+Uz2EDr9lijxDC6xjyn9t/MdhtT51em34bwsWfbrf/z/jx90UOuxYsf9YQAAAABJRU5ErkJggg==\"></div><div class=\"grid-item\"><img alt=\"Output\" src=\"data:image/png;base64,iVBORw0KGgoAAAANSUhEUgAAADcAAAAhCAIAAADyNqSXAAAAz3pUWHRSYXcgcHJvZmlsZSB0eXBlIGV4aWYAAHjabU/bDQMhDPtnio6QFw6Mw/Wo1A06fsOBWlHV0sXGccKR+uv5SLcBYUqWvaACFLBqVVqIQhOTmepVL6ivHu9+kiW4hZW/DfTlH7vvmCzlZxHJumncEFptDaxFKtPnNs/HyksrZV+ktMHK59f/n9UFGewW1YTcUUOXFDIIWSg7HrgDEWScQnYP7nCPMfhIaBuDA9J9T/cEDeMcT9DxsbZgi8rKMcqXw1qjqlY5oqtXZjznDRMuWow2BoCZAAAACXBIWXMAAAsTAAALEwEAmpwYAAAAPHRFWHRTb2Z0d2FyZQBDcmVhdGVkIHdpdGggdGhlIFdvbGZyYW0gTGFuZ3VhZ2UgOiB3d3cud29sZnJhbS5jb21coqaFAAAAIXRFWHRDcmVhdGlvbiBUaW1lADIwMjE6MDQ6MTEgMTE6MTk6MzldxuMLAAAB70lEQVRYhe2YMXLbMBBFF5kcQIcgWGh8AvIEtBvdQB1Qio07F+rTACXT5RACTkCfIMMC2LvAheSIJoAJKa0ykcev4vzBLD5I7C5ACGR4VQEACEMX8p1vQIOVbAu/TkbJoXLZdKHfFUTBIqhc3pY7dGm11NoiTgfl9MtBa7WUOoqY08+JZJTyqQTL6Qm8qpbk+OwZx++yLNPbP6ePsZIxxnj7Cj8fGWNM2gVv9q98J4rTdCF0RLFi7jB7/lu+XNJxHy7POY7OQdPEI5L6fr9fOlPbtqvV6oPEATxAXOZi/VSOjVImUWFzOhVGiWT4iX784ugdAI8XldPJ4LB2h0Trneoj+1c3yKV4pZLtNNLP2dOUpU8tN6cT4AH4LP0+cvzTu0RdsyN1fCCk5WKXqLfDy2mvQ7u9rc+LXRa7vjvW+qJ8gNchzjC0WtZ1XafO3gsh2JfofoPYTLoTanlwAC9933fdk5f6qlPx2KVz6TXndAAAsJK3D6abmLQHeC6HYcMRERH4ZnDX2By5bJ7gh0zcwXL6MX8ewYSpxxPr9Z9H/rz7OAbRaunK6Aqf0aO6n2k0ke5Vlf/d4pVQRol815o9TQghhMjlTKJ/LZFfo0RVVUIZY5QQ6UPFXFgIIfm5aEBEgKK49rxyY5dEfPoO+Q95AwUjPSWL6NVcAAAAAElFTkSuQmCC\"></div><div class=\"grid-item\"><img alt=\"Output\" src=\"data:image/png;base64,iVBORw0KGgoAAAANSUhEUgAAAF8AAAAPCAIAAAANoIRVAAAAz3pUWHRSYXcgcHJvZmlsZSB0eXBlIGV4aWYAAHjabU/bDQMhDPtnio6QFw6Mw7Wc1A06fsOBWlHVErFxnNyR+ut5ptuAMCXLXlABCli1Ki1EoYnJTPWqF/K5erz7iVaDW1j520Bf/rH7jslSfhfJFDq+EFptDaxFKtPnNu/HyksrZV+ktMHK59f/39UFGewW1YTcUUOXFDIIWSg7TtyBCDIeQnYP7nCPMfhIaBuDA9J9T/cEDeMxnqDjsLZgi8rKMcqXw1qjqlY5oqtXZjznDaF3WvArzmT3AAAACXBIWXMAAAsTAAALEwEAmpwYAAAAPHRFWHRTb2Z0d2FyZQBDcmVhdGVkIHdpdGggdGhlIFdvbGZyYW0gTGFuZ3VhZ2UgOiB3d3cud29sZnJhbS5jb21coqaFAAAAIXRFWHRDcmVhdGlvbiBUaW1lADIwMjE6MDQ6MTEgMTE6MTk6MzldxuMLAAAB3UlEQVRYhe2VPXLCMBCFVzkLdpHhBOIEkCaV23RyCU06Sro0cok7Wio3SCeAEzAUlu6iFPKf7JV/mMkkZHgVfHrSSmv5mRhj4CmPXn57A39az+70qdUdrXGbjz+mRp+y0R2dxInC5nS4ThbEapH0tw1zypiQcdAZqHDDSmLZnV9B75oASZxIQNTmppIQwmBqc8EAmEWK0/InOrPfqTgFypUfYgbB6nUEK4ZR2FtI8HZhjE/PHZmllH8uAQD06XiBNEOfwkjnPJx1JxZQfm2AH9auIXil6c7eBJmlNHqb+eCIQkOa3B2dX20lGZPgGHEG1xx/u/zO4soHx0jtl6W9A3V+pVF4Wrjvxmx9NttbQAgh2bs5296h0FdogqruaJnnAXZGlMuYrECY8zocKoA5l3t7cbe3oE4ODF42OzjYGz/ffCQabJKtQBhjBKzKnqHQV8iOhHDCHmqLl6+m4BwLkC4XDMBJBm/wDDuRjKih4rQxWESLs0yZaygcKKQ45wqJHoffl8plpdZOBIP2f4/Tt2cHNg5d5Soa2kNJjhQal8p3dMfuwMqpabHTA8QpWHVv69kobE6vl22wfuhZ88e78w80/YueZxL9+vj4A0vnt1Hc6ZwSAksqL39MjT/lN8+xflgKe4ZNAAAAAElFTkSuQmCC\"></div><div class=\"grid-item\"><img alt=\"Output\" src=\"data:image/png;base64,iVBORw0KGgoAAAANSUhEUgAAAGgAAAAPCAIAAACHjx0UAAAAznpUWHRSYXcgcHJvZmlsZSB0eXBlIGV4aWYAAHjabU9bjgMhDPvnFD1CXjhwHKbDSHuDPX7DwGpLVUvExjgBUv/9udJjQJiSZS+oAAWsWpUWotDEZKZ61xv4O+PdT3Qtv4WV3xr68o/dd0yW8jlIptBxQ2i11bAGqUyf29wfKy+tlH2Q0gb7f/r3vbogg92impA7auiSQgYhC2XHhScQQcYpZM/gDvdog4+EttE4IN33dE/QMM7xBR2LtQVbVFaOVr4d1hpVtcoRp3pnxndeXzNaw04NKDoAAAAJcEhZcwAACxMAAAsTAQCanBgAAAA8dEVYdFNvZnR3YXJlAENyZWF0ZWQgd2l0aCB0aGUgV29sZnJhbSBMYW5ndWFnZSA6IHd3dy53b2xmcmFtLmNvbVyipoUAAAAhdEVYdENyZWF0aW9uIFRpbWUAMjAyMTowNDoxMSAxMToxOTozOV3G4wsAAAGuSURBVFiF7ZUxcsIwEEVXOYvtIsMJzAnsiipHkEo4QMp0aaSSHIGKBvkEcAKGQtJdRAFyJHsFJmJg4uFX1vNfW/rgXWKthZdu19uzN/Bf9Qruj+oEZwxui/HRaXAAXnBGMKGxmgjHXyCm5KSpuBw26nwYbBhpxRp/X4KJYB3jtpWU0mKKccxKAejJrXnpLgc7NS89VnIdhenl7d4kddQBHiwj/K7BeXvQvASIJ3fV6SWDwMTyToZhbgODu+dwMGoPkyIDaBjJVx+cwl7hn+tVp1F7oLOqX0VnVXI5QDbf2s9DTggh65ndzrPbD9sGZxqlcuyMGDeBwnsNIzVIu50X194ddTYsX0zksroME8qNmJIapLVWQt3txlUBG+z3DrkLzmgFBRI8xo3RgdzTsmICP/XXu7ZL/2+B6ILTnSk4dwcmloPZrHb0FGK1lHS3+A7afg6wwaZryL1v+C7DwTWMTpeRFLprxKl52e9NGEwr91pccH1+9uOHg9smAEC4G6SF952/5CwqIzC53Me9wfKU4Eag26eqWjfoEIzxccqowyAehKql1FjaMT46DQ/gCK95Hhb4tt0HAAAAAElFTkSuQmCC\"></div></div></div>"
      ],
      "text/plain": [
       "{{1 + Sqrt[E]}}\n",
       "   1\n",
       "{{---}}\n",
       "  2 E\n",
       "{{0.0336883}}\n",
       "{{-0.0220228}}"
      ]
     },
     "execution_count": 31,
     "metadata": {
      "text/html": [],
      "text/plain": []
     },
     "output_type": "execute_result"
    }
   ],
   "source": [
    "sols = Solve[f'[x] == 0, x];\n",
    "points = {x} /. sols\n",
    "f[points]\n",
    "f'[N[points]-0.1]\n",
    "f'[N[points]+0.1]"
   ]
  },
  {
   "cell_type": "code",
   "execution_count": 35,
   "metadata": {},
   "outputs": [
    {
     "data": {
      "text/html": [
       "<div><img alt=\"Output\" src=\"data:image/png;base64,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\"></div>"
      ],
      "text/plain": [
       "-Graphics-"
      ]
     },
     "execution_count": 41,
     "metadata": {
      "text/html": [],
      "text/plain": []
     },
     "output_type": "execute_result"
    }
   ],
   "source": [
    "g1 = Graphics[Line[{{0,0}, {20,0}}]];\n",
    "g2 = Graphics[Text[Style[\"1\", 24], {0.1, 1}]];\n",
    "g3 = Graphics[Text[Style[\"e^(1/2)+1\", 24], {8, 1}]];\n",
    "g4 = Graphics[Text[Style[\"+inf\", 24], {19.9, 1}]];\n",
    "g5 = Graphics[Arrow[{{1.5,1}, {4.5,2}}]];\n",
    "g6 = Graphics[Arrow[{{11.5,2}, {14.5,1}}]];\n",
    "Show[{g1, g2, g3, g4, g5, g6}, ImageSize->{500, 100}]"
   ]
  },
  {
   "cell_type": "markdown",
   "metadata": {},
   "source": [
    "# Точки экстремума и значения в этих точках"
   ]
  },
  {
   "cell_type": "markdown",
   "metadata": {},
   "source": [
    "Из предыдущего пункта видно, что точка {1+sqrt(e), 1/2e} - точка глобального максимума."
   ]
  },
  {
   "cell_type": "markdown",
   "metadata": {},
   "source": [
    "# Непрерывность. Наличие точек разрыва и их классификация"
   ]
  },
  {
   "cell_type": "code",
   "execution_count": 42,
   "metadata": {},
   "outputs": [
    {
     "data": {
      "text/html": [
       "<div><img alt=\"Output\" src=\"data:image/png;base64,iVBORw0KGgoAAAANSUhEUgAAABIAAAAPCAIAAABm5AhFAAAAz3pUWHRSYXcgcHJvZmlsZSB0eXBlIGV4aWYAAHjabVBbDsMgDPvnFDtCSEICx6EblXaDHX9OQZuYFgnbcR6UpvF6nukWwZmSFq/WzAihTRt3iEozJmdqF86EVy3vfqJz+R1W+RZsLP/YfbfJXH8XrRskboAWXQNrkfD0c5/5sfq517ovEtpC6+fT/+fibMWyK1CZ3K1B1wQJssJU3E67m6Ex24NJ7+Bh7hgzjw7pMRjBw/fukUxgPOIJEidLByswC/5r4KUbUIX4QFWunnjOG059WrDw73EKAAAACXBIWXMAAAsTAAALEwEAmpwYAAAAPHRFWHRTb2Z0d2FyZQBDcmVhdGVkIHdpdGggdGhlIFdvbGZyYW0gTGFuZ3VhZ2UgOiB3d3cud29sZnJhbS5jb21coqaFAAAAIXRFWHRDcmVhdGlvbiBUaW1lADIwMjE6MDQ6MTEgMTE6MTk6NDBrW81oAAAAkUlEQVQoke2SMQ7CMAxFf1GPknjgKllyChg5SJd07C2yxL2LnbuYJUUgtUEwMPGmL1tf35Y9mBk+5/SF52/bY+x21/kqFEkkgyKyUCTJQssNZmamL1hDU+KHvKStzinpCKBWVX0Occ415XdG8IAOvS+p61wQgkeZCs4AheC1TBIW2BtUmbfxlLmt0E075rd3uwNTb4hc0wrD7AAAAABJRU5ErkJggg==\"></div>"
      ],
      "text/plain": [
       "-Infinity"
      ]
     },
     "execution_count": 42,
     "metadata": {
      "text/html": [],
      "text/plain": []
     },
     "output_type": "execute_result"
    }
   ],
   "source": [
    "Limit[f[x], x->1]"
   ]
  },
  {
   "cell_type": "markdown",
   "metadata": {},
   "source": [
    "Точка x=1 является точкой разрыва второго рода. Во всех точках D функция непрерывна."
   ]
  },
  {
   "cell_type": "markdown",
   "metadata": {},
   "source": [
    "# Асимптоты"
   ]
  },
  {
   "cell_type": "code",
   "execution_count": 43,
   "metadata": {},
   "outputs": [
    {
     "name": "stdout",
     "output_type": "stream",
     "text": [
      "k1 = 0 b1 = 0 k2 = 0 b2 = 0\r\n"
     ]
    }
   ],
   "source": [
    "k1 = Limit[f[x], x->+\\[Infinity]];\n",
    "k2 = Limit[f[x], x->-\\[Infinity]];\n",
    "b1 = Limit[f[x]-k1*x, x->+\\[Infinity]];\n",
    "b2 = Limit[f[x]-k2*x, x->+\\[Infinity]];\n",
    "Print[\"k1 = \", k1, \" b1 = \", b1, \" k2 = \", k2, \" b2 = \", b2]"
   ]
  },
  {
   "cell_type": "markdown",
   "metadata": {},
   "source": [
    "Т.к. b1=b2, k1=k2, то это одна горизонтальная асимптота y=0, теперь необходимо посмотреть точки разрыва. "
   ]
  },
  {
   "cell_type": "code",
   "execution_count": 48,
   "metadata": {},
   "outputs": [
    {
     "data": {
      "text/html": [
       "<div><img alt=\"Output\" src=\"data:image/png;base64,iVBORw0KGgoAAAANSUhEUgAAABIAAAAPCAIAAABm5AhFAAAAz3pUWHRSYXcgcHJvZmlsZSB0eXBlIGV4aWYAAHjabVBbDsMgDPvnFDtCSEICx6EblXaDHX9OQZuYFgnbcR6UpvF6nukWwZmSFq/WzAihTRt3iEozJmdqF86EVy3vfqJz+R1W+RZsLP/YfbfJXH8XrRskboAWXQNrkfD0c5/5sfq517ovEtpC6+fT/+fibMWyK1CZ3K1B1wQJssJU3E67m6Ex24NJ7+Bh7hgzjw7pMRjBw/fukUxgPOIJEidLByswC/5r4KUbUIX4QFWunnjOG059WrDw73EKAAAACXBIWXMAAAsTAAALEwEAmpwYAAAAPHRFWHRTb2Z0d2FyZQBDcmVhdGVkIHdpdGggdGhlIFdvbGZyYW0gTGFuZ3VhZ2UgOiB3d3cud29sZnJhbS5jb21coqaFAAAAIXRFWHRDcmVhdGlvbiBUaW1lADIwMjE6MDQ6MTEgMTE6MTk6NDBrW81oAAAAkUlEQVQoke2SMQ7CMAxFf1GPknjgKllyChg5SJd07C2yxL2LnbuYJUUgtUEwMPGmL1tf35Y9mBk+5/SF52/bY+x21/kqFEkkgyKyUCTJQssNZmamL1hDU+KHvKStzinpCKBWVX0Occ415XdG8IAOvS+p61wQgkeZCs4AheC1TBIW2BtUmbfxlLmt0E075rd3uwNTb4hc0wrD7AAAAABJRU5ErkJggg==\"></div>"
      ],
      "text/plain": [
       "-Infinity"
      ]
     },
     "execution_count": 48,
     "metadata": {
      "text/html": [],
      "text/plain": []
     },
     "output_type": "execute_result"
    }
   ],
   "source": [
    "Limit[f[x], x->1]"
   ]
  },
  {
   "cell_type": "markdown",
   "metadata": {},
   "source": [
    "Т.к. предел равен -inf, x=1 является вертикальной асимптотой. "
   ]
  },
  {
   "cell_type": "code",
   "execution_count": 49,
   "metadata": {},
   "outputs": [
    {
     "data": {
      "text/html": [
       "<div><img alt=\"Output\" src=\"data:image/png;base64,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\"></div>"
      ],
      "text/plain": [
       "-Graphics-"
      ]
     },
     "execution_count": 49,
     "metadata": {
      "text/html": [],
      "text/plain": []
     },
     "output_type": "execute_result"
    }
   ],
   "source": [
    "Plot[f[x], {x, 0.5, 7}, GridLines->{{1,0},{0,0}}, GridLinesStyle->Directive[Thick, Red]]"
   ]
  },
  {
   "cell_type": "code",
   "execution_count": null,
   "metadata": {},
   "outputs": [],
   "source": []
  }
 ],
 "metadata": {
  "interpreter": {
   "hash": "c8bb34ad1b875d3161ce3302675f29779661d4a35ffbd1d17a3da28b3132449a"
  },
  "kernelspec": {
   "display_name": "SageMath 9.2",
   "language": "sage",
   "name": "sagemath"
  },
  "language_info": {
   "codemirror_mode": {
    "name": "ipython",
    "version": 3
   },
   "file_extension": ".py",
   "mimetype": "text/x-python",
   "name": "python",
   "nbconvert_exporter": "python",
   "pygments_lexer": "ipython3",
   "version": "3.7.7"
  }
 },
 "nbformat": 4,
 "nbformat_minor": 4
}
